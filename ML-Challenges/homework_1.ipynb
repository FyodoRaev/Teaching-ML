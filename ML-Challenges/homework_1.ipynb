{
 "cells": [
  {
   "cell_type": "markdown",
   "id": "3a2c0707",
   "metadata": {
    "id": "3a2c0707"
   },
   "source": [
    "## Homework"
   ]
  },
  {
   "cell_type": "code",
   "execution_count": 1,
   "id": "BxCGcHcxyAwh",
   "metadata": {
    "id": "BxCGcHcxyAwh"
   },
   "outputs": [],
   "source": [
    "import numpy as np"
   ]
  },
  {
   "cell_type": "markdown",
   "id": "byY0Ab4Jww36",
   "metadata": {
    "id": "byY0Ab4Jww36"
   },
   "source": [
    "### Drill (1 балл)"
   ]
  },
  {
   "cell_type": "markdown",
   "id": "g9nrcP5ExLOr",
   "metadata": {
    "id": "g9nrcP5ExLOr"
   },
   "source": [
    "Task 1.\n",
    "\n",
    "Initialize the arrays of the following forms with zeros\n",
    "\n",
    "* (5)\n",
    "* (5, 1)\n",
    "* (10, 2)\n",
    "* (3, 6, 2)\n",
    "* (4, 3, 2, 1)"
   ]
  },
  {
   "cell_type": "code",
   "execution_count": 2,
   "id": "B8UweXqZ7eb-",
   "metadata": {
    "id": "B8UweXqZ7eb-"
   },
   "outputs": [
    {
     "name": "stdout",
     "output_type": "stream",
     "text": [
      "(5,)\n",
      "(5, 1)\n",
      "(10, 2)\n",
      "(3, 6, 2)\n",
      "(4, 3, 2, 1)\n"
     ]
    }
   ],
   "source": [
    "shapes = [(5,),(5,1),(10,2),(3,6,2),(4,3,2,1)]\n",
    "\n",
    "vectors = [ np.zeros(shape) for shape in shapes]\n",
    "\n",
    "for vec in vectors:\n",
    "    print(vec.shape)"
   ]
  },
  {
   "cell_type": "markdown",
   "id": "nB5ePY6S5AWx",
   "metadata": {
    "id": "nB5ePY6S5AWx"
   },
   "source": [
    "Task 2.\n",
    "\n",
    "Initialize arrays of the same shapes with ones and render them to an integer form:"
   ]
  },
  {
   "cell_type": "code",
   "execution_count": 3,
   "id": "bW7_oEBw5Ga8",
   "metadata": {
    "id": "bW7_oEBw5Ga8"
   },
   "outputs": [
    {
     "name": "stdout",
     "output_type": "stream",
     "text": [
      "(5,)\n",
      "(5, 1)\n",
      "(10, 2)\n",
      "(3, 6, 2)\n",
      "(4, 3, 2, 1)\n",
      "int64\n"
     ]
    }
   ],
   "source": [
    "vectors = [ np.ones(shape).astype(int) for shape in shapes ]\n",
    "\n",
    "for vec in vectors:\n",
    "    print(vec.shape)\n",
    "    \n",
    "print(vectors[0].dtype)"
   ]
  },
  {
   "cell_type": "markdown",
   "id": "_S7FJFXexb3o",
   "metadata": {
    "id": "_S7FJFXexb3o"
   },
   "source": [
    "Task 3.\n",
    "\n",
    "Execute on the vectors above 'reshape' to 'form'\n",
    "* with two components\n",
    "* with three components\n",
    "* with four components"
   ]
  },
  {
   "cell_type": "code",
   "execution_count": 4,
   "id": "j27PGEc17396",
   "metadata": {
    "id": "j27PGEc17396"
   },
   "outputs": [],
   "source": [
    "def cal_shape(shape, num):\n",
    "    '''\n",
    "    reshape vector with num of components\n",
    "    '''\n",
    "    if len(shape) == num:\n",
    "        return shape\n",
    "    elif len(shape) < num:\n",
    "        new_shape = [1] * num\n",
    "        new_shape[:len(shape)] = list(shape)\n",
    "        return tuple(new_shape)\n",
    "    else:\n",
    "        new_shape = list(shape)\n",
    "        num_multiply = len(shape) - num\n",
    "        new_shape = [ np.prod(new_shape[:num_multiply+1]) ] + new_shape[num_multiply+1:]\n",
    "        return tuple(new_shape)"
   ]
  },
  {
   "cell_type": "code",
   "execution_count": 5,
   "id": "ceb7e87f",
   "metadata": {},
   "outputs": [
    {
     "name": "stdout",
     "output_type": "stream",
     "text": [
      "the shape for (5,) with 2 components is (5, 1)\n",
      "the shape for (5,) with 3 components is (5, 1, 1)\n",
      "the shape for (5,) with 4 components is (5, 1, 1, 1)\n",
      "the shape for (5, 1) with 2 components is (5, 1)\n",
      "the shape for (5, 1) with 3 components is (5, 1, 1)\n",
      "the shape for (5, 1) with 4 components is (5, 1, 1, 1)\n",
      "the shape for (10, 2) with 2 components is (10, 2)\n",
      "the shape for (10, 2) with 3 components is (10, 2, 1)\n",
      "the shape for (10, 2) with 4 components is (10, 2, 1, 1)\n",
      "the shape for (3, 6, 2) with 2 components is (18, 2)\n",
      "the shape for (3, 6, 2) with 3 components is (3, 6, 2)\n",
      "the shape for (3, 6, 2) with 4 components is (3, 6, 2, 1)\n",
      "the shape for (4, 3, 2, 1) with 2 components is (24, 1)\n",
      "the shape for (4, 3, 2, 1) with 3 components is (12, 2, 1)\n",
      "the shape for (4, 3, 2, 1) with 4 components is (4, 3, 2, 1)\n"
     ]
    }
   ],
   "source": [
    "for vec in vectors:\n",
    "    for i in [2,3,4]:\n",
    "        shape = cal_shape(vec.shape, i)\n",
    "        vec0 = vec.reshape(shape)\n",
    "        print(f\"the shape for {vec.shape} with {i} components is {vec0.shape}\")"
   ]
  },
  {
   "cell_type": "markdown",
   "id": "Kp3SvzHyxyPp",
   "metadata": {
    "id": "Kp3SvzHyxyPp"
   },
   "source": [
    "Task 4.\n",
    "\n",
    "For the vector below, calculate it\n",
    "* Maximum 1 axis\n",
    "* Minimum 0 axis\n",
    "* Sum in all axes\n",
    "* Average on 0 axis\n",
    "* Median 1 axis"
   ]
  },
  {
   "cell_type": "code",
   "execution_count": 8,
   "id": "5GcaTzGPx9Tk",
   "metadata": {
    "id": "5GcaTzGPx9Tk"
   },
   "outputs": [
    {
     "name": "stdout",
     "output_type": "stream",
     "text": [
      "[[4 7 7 5 7 5 1]\n",
      " [7 7 4 1 5 8 5]\n",
      " [8 2 3 5 5 6 1]\n",
      " [1 3 6 7 0 2 5]\n",
      " [2 7 4 8 6 3 5]]\n"
     ]
    }
   ],
   "source": [
    "v = np.random.randint(0, 9, size=(5, 7))\n",
    "print(v)"
   ]
  },
  {
   "cell_type": "code",
   "execution_count": 9,
   "id": "vUtBVwG58A4S",
   "metadata": {
    "id": "vUtBVwG58A4S"
   },
   "outputs": [
    {
     "name": "stdout",
     "output_type": "stream",
     "text": [
      "[7 8 8 7 8]\n",
      "[1 2 3 1 0 2 1]\n",
      "162\n",
      "[4.4 5.2 4.8 5.2 4.6 4.8 3.4]\n",
      "[5. 5. 5. 3. 5.]\n"
     ]
    }
   ],
   "source": [
    "print(v.max(axis=1))\n",
    "print(v.min(axis=0))\n",
    "print(v.sum())\n",
    "print(v.mean(axis=0))\n",
    "print(np.median(v,axis=1))"
   ]
  },
  {
   "cell_type": "markdown",
   "id": "EiVqZFtpyOHm",
   "metadata": {
    "id": "EiVqZFtpyOHm"
   },
   "source": [
    "Task 5.\n",
    "\n",
    "For the same vector 'v' derive\n",
    "* Its shape\n",
    "* 0 component of its 'shape'\n",
    "* 1 component of its 'shape'"
   ]
  },
  {
   "cell_type": "code",
   "execution_count": 10,
   "id": "erPBnY1O8dPC",
   "metadata": {
    "id": "erPBnY1O8dPC"
   },
   "outputs": [
    {
     "data": {
      "text/plain": [
       "((5, 7), 5, 7)"
      ]
     },
     "execution_count": 10,
     "metadata": {},
     "output_type": "execute_result"
    }
   ],
   "source": [
    "v.shape, v.shape[0], v.shape[1]"
   ]
  },
  {
   "cell_type": "markdown",
   "id": "9bdU9sq1ygiF",
   "metadata": {
    "id": "9bdU9sq1ygiF"
   },
   "source": [
    "Task 6.\n",
    "\n",
    "For the same vector, derive\n",
    "* All numbers greater than 5\n",
    "* All numbers less than 7 in reverse order\n",
    "* All numbers greater than 3, which are divided by 4 without residue\n",
    "* All numbers whose remainder from dividing by 5 is 3\n",
    "* Maximum index\n",
    "* Minimum index\n",
    "* List with indexes of the elements of the sorted array in the original (unsorted)"
   ]
  },
  {
   "cell_type": "code",
   "execution_count": 11,
   "id": "zyG7jPXr8j-x",
   "metadata": {
    "id": "zyG7jPXr8j-x"
   },
   "outputs": [
    {
     "name": "stdout",
     "output_type": "stream",
     "text": [
      "[7 7 7 7 7 8 8 6 6 7 7 8 6]\n",
      "[5 3 6 4 2 5 2 0 6 3 1 1 6 5 5 3 2 5 5 1 4 1 5 5 4]\n",
      "[4 4 8 8 4 8]\n",
      "[8 8 3 3 8 3]\n",
      "12\n",
      "25\n",
      "[25  6 21 10 20 28 26 15 22 33 16  0 30  9 27 18 17 13  3 11  5 34 23 32\n",
      " 19  8  7 24  4  2 29  1 14 12 31]\n"
     ]
    }
   ],
   "source": [
    "print(v[v>5])\n",
    "print(v[v<7][::-1])\n",
    "print(v[(v>3) & (v%4 == 0)])\n",
    "print(v[v%5 == 3])\n",
    "print(v.argmax())\n",
    "print(v.argmin())\n",
    "print(v.argsort(axis=None))"
   ]
  },
  {
   "cell_type": "markdown",
   "id": "pd7gVNl9zN-s",
   "metadata": {
    "id": "pd7gVNl9zN-s"
   },
   "source": [
    "Task 7.\n",
    "\n",
    "Perform the following operations on the vector (independently, it is not necessary to do this in sequence):\n",
    "* Multiply it by 3\n",
    "* Divide by 7\n",
    "* Elevate to the degree of $frac{2}{3}$\n",
    "* Count $sin$ from it\n",
    "* Count $log$ from it"
   ]
  },
  {
   "cell_type": "code",
   "execution_count": 12,
   "id": "cVcWVkYJ8qpx",
   "metadata": {
    "id": "cVcWVkYJ8qpx"
   },
   "outputs": [
    {
     "name": "stdout",
     "output_type": "stream",
     "text": [
      "[47 99 97 49 74 27 93 65 82 43]\n",
      "[141 297 291 147 222  81 279 195 246 129]\n",
      "[ 6.71428571 14.14285714 13.85714286  7.         10.57142857  3.85714286\n",
      " 13.28571429  9.28571429 11.71428571  6.14285714]\n",
      "[13.02362568 21.40047747 21.11127629 13.39051828 17.62602898  9.\n",
      " 20.52683379 16.16623563 18.87451938 12.27379797]\n",
      "[ 0.12357312 -0.99920683  0.37960774 -0.95375265 -0.98514626  0.95637593\n",
      " -0.94828214  0.82682868  0.31322878 -0.83177474]\n",
      "[3.8501476  4.59511985 4.57471098 3.8918203  4.30406509 3.29583687\n",
      " 4.53259949 4.17438727 4.40671925 3.76120012]\n"
     ]
    }
   ],
   "source": [
    "v = np.random.randint(1,100,size=10)\n",
    "print(v)\n",
    "\n",
    "print(v * 3)\n",
    "print(v / 7)\n",
    "print(np.power(v, 2/3))\n",
    "print(np.sin(v))\n",
    "print(np.log(v))"
   ]
  },
  {
   "cell_type": "markdown",
   "id": "Njvzyat9w9Jw",
   "metadata": {
    "id": "Njvzyat9w9Jw"
   },
   "source": [
    "### Different initializations + indexing (3 points)"
   ]
  },
  {
   "cell_type": "markdown",
   "id": "IXB2M-hrB1C5",
   "metadata": {
    "id": "IXB2M-hrB1C5"
   },
   "source": [
    "Task 8.\n",
    "\n",
    "Build a square of $3 \\times 3$ from odd numbers"
   ]
  },
  {
   "cell_type": "code",
   "execution_count": 13,
   "id": "76yrPH6q842y",
   "metadata": {
    "id": "76yrPH6q842y"
   },
   "outputs": [
    {
     "name": "stdout",
     "output_type": "stream",
     "text": [
      "[[ 1  3  5]\n",
      " [ 7  9 11]\n",
      " [13 15 17]]\n"
     ]
    }
   ],
   "source": [
    "odd_square = np.array([ 1+2*i for i in range(9) ])\n",
    "odd_square = odd_square.reshape(3,3)\n",
    "print(odd_square)"
   ]
  },
  {
   "cell_type": "markdown",
   "id": "HmlcbwtOB5OT",
   "metadata": {
    "id": "HmlcbwtOB5OT"
   },
   "source": [
    "Task 9.\n",
    "\n",
    "Construct a square of $4 \\times 4$ from even numbers in reverse order"
   ]
  },
  {
   "cell_type": "code",
   "execution_count": 14,
   "id": "oXCpC2Rv88tS",
   "metadata": {
    "id": "oXCpC2Rv88tS"
   },
   "outputs": [
    {
     "name": "stdout",
     "output_type": "stream",
     "text": [
      "[[30 28 26 24]\n",
      " [22 20 18 16]\n",
      " [14 12 10  8]\n",
      " [ 6  4  2  0]]\n"
     ]
    }
   ],
   "source": [
    "even_square = np.array([0+2*i for i in range(16)])\n",
    "even_square = even_square[::-1].reshape(4,4)\n",
    "print(even_square)"
   ]
  },
  {
   "cell_type": "markdown",
   "id": "IeOvIqrFB8zI",
   "metadata": {
    "id": "IeOvIqrFB8zI"
   },
   "source": [
    "Task 10.\n",
    "\n",
    "Build a grid of coordinates $11 \\times 11$ with a dot $(0.0)$ in the center and a step of $0.1$ between the cells"
   ]
  },
  {
   "cell_type": "code",
   "execution_count": 15,
   "id": "s2wBq1It9Hgr",
   "metadata": {
    "id": "s2wBq1It9Hgr"
   },
   "outputs": [
    {
     "name": "stdout",
     "output_type": "stream",
     "text": [
      "[[(-0.5, -0.5), (-0.4, -0.5), (-0.3, -0.5), (-0.2, -0.5), (-0.1, -0.5), (0.0, -0.5), (0.1, -0.5), (0.2, -0.5), (0.3, -0.5), (0.4, -0.5), (0.5, -0.5)], [(-0.5, -0.4), (-0.4, -0.4), (-0.3, -0.4), (-0.2, -0.4), (-0.1, -0.4), (0.0, -0.4), (0.1, -0.4), (0.2, -0.4), (0.3, -0.4), (0.4, -0.4), (0.5, -0.4)], [(-0.5, -0.3), (-0.4, -0.3), (-0.3, -0.3), (-0.2, -0.3), (-0.1, -0.3), (0.0, -0.3), (0.1, -0.3), (0.2, -0.3), (0.3, -0.3), (0.4, -0.3), (0.5, -0.3)], [(-0.5, -0.2), (-0.4, -0.2), (-0.3, -0.2), (-0.2, -0.2), (-0.1, -0.2), (0.0, -0.2), (0.1, -0.2), (0.2, -0.2), (0.3, -0.2), (0.4, -0.2), (0.5, -0.2)], [(-0.5, -0.1), (-0.4, -0.1), (-0.3, -0.1), (-0.2, -0.1), (-0.1, -0.1), (0.0, -0.1), (0.1, -0.1), (0.2, -0.1), (0.3, -0.1), (0.4, -0.1), (0.5, -0.1)], [(-0.5, 0.0), (-0.4, 0.0), (-0.3, 0.0), (-0.2, 0.0), (-0.1, 0.0), (0.0, 0.0), (0.1, 0.0), (0.2, 0.0), (0.3, 0.0), (0.4, 0.0), (0.5, 0.0)], [(-0.5, 0.1), (-0.4, 0.1), (-0.3, 0.1), (-0.2, 0.1), (-0.1, 0.1), (0.0, 0.1), (0.1, 0.1), (0.2, 0.1), (0.3, 0.1), (0.4, 0.1), (0.5, 0.1)], [(-0.5, 0.2), (-0.4, 0.2), (-0.3, 0.2), (-0.2, 0.2), (-0.1, 0.2), (0.0, 0.2), (0.1, 0.2), (0.2, 0.2), (0.3, 0.2), (0.4, 0.2), (0.5, 0.2)], [(-0.5, 0.3), (-0.4, 0.3), (-0.3, 0.3), (-0.2, 0.3), (-0.1, 0.3), (0.0, 0.3), (0.1, 0.3), (0.2, 0.3), (0.3, 0.3), (0.4, 0.3), (0.5, 0.3)], [(-0.5, 0.4), (-0.4, 0.4), (-0.3, 0.4), (-0.2, 0.4), (-0.1, 0.4), (0.0, 0.4), (0.1, 0.4), (0.2, 0.4), (0.3, 0.4), (0.4, 0.4), (0.5, 0.4)], [(-0.5, 0.5), (-0.4, 0.5), (-0.3, 0.5), (-0.2, 0.5), (-0.1, 0.5), (0.0, 0.5), (0.1, 0.5), (0.2, 0.5), (0.3, 0.5), (0.4, 0.5), (0.5, 0.5)]]\n"
     ]
    }
   ],
   "source": [
    "x = np.linspace(-0.5,0.5,11)\n",
    "y = np.linspace(-0.5,0.5,11)\n",
    "xv, yv = np.meshgrid(x,y)\n",
    "\n",
    "lines = []\n",
    "for i in range(11):\n",
    "    line = [ (round(ai,2), round(aj,2)) for ai, aj in zip(xv[i], yv[i])]\n",
    "    lines.append(line)\n",
    "    \n",
    "print(lines)"
   ]
  },
  {
   "cell_type": "markdown",
   "id": "BQD_BNN-CqCm",
   "metadata": {
    "id": "BQD_BNN-CqCm"
   },
   "source": [
    "Task 11.\n",
    "\n",
    "Tiling a mesh of $8\\times8$ with $0$ and $1$ in a staggered manner, a cage with an index of $(0.0)$ is paved with $1$"
   ]
  },
  {
   "cell_type": "code",
   "execution_count": 17,
   "id": "TjaC8zDJ9XLz",
   "metadata": {
    "id": "TjaC8zDJ9XLz"
   },
   "outputs": [],
   "source": [
    "mesh = np.zeros((8,8))\n",
    "mesh[::2, ::2] = 1\n",
    "mesh[1::2, ::]"
   ]
  },
  {
   "cell_type": "markdown",
   "id": "xeL6jav0w0U-",
   "metadata": {
    "id": "xeL6jav0w0U-"
   },
   "source": [
    "### Operations + aggregations (3 points)"
   ]
  },
  {
   "cell_type": "markdown",
   "id": "vOPIAFopHUKs",
   "metadata": {
    "id": "vOPIAFopHUKs"
   },
   "source": [
    "Task 16.\n",
    "\n",
    "A sample of ${X_i}$ of some random variable $X$ is given, it is necessary to estimate\n",
    "* Expected $E[X] = \\frac{1}{N}\\sum_{i=1}^N X_i$ of this random variable\n",
    "* Variance $D[X] = \\frac{1}{N}\\sum_{i=1}^N (X_i - E[X])^2$ of this random variable"
   ]
  },
  {
   "cell_type": "code",
   "execution_count": null,
   "id": "uHQ-DiR4JB0p",
   "metadata": {
    "id": "uHQ-DiR4JB0p"
   },
   "outputs": [],
   "source": [
    "def expected_value(x):\n",
    "    assert len(x) > 0\n",
    "    return #\n",
    "\n",
    "\n",
    "def dispersion(x):\n",
    "    assert len(x) > 0\n",
    "    return #"
   ]
  },
  {
   "cell_type": "code",
   "execution_count": null,
   "id": "XVFo8hitHSav",
   "metadata": {
    "id": "XVFo8hitHSav"
   },
   "outputs": [],
   "source": [
    "def expected_value_np(x):\n",
    "    return np.mean(x)"
   ]
  },
  {
   "cell_type": "code",
   "execution_count": null,
   "id": "f2jCC5EjJkl0",
   "metadata": {
    "id": "f2jCC5EjJkl0"
   },
   "outputs": [],
   "source": [
    "def dispersion_np(x):\n",
    "    return np.var(x)"
   ]
  },
  {
   "cell_type": "code",
   "execution_count": null,
   "id": "dEGp_cuFJoX9",
   "metadata": {
    "id": "dEGp_cuFJoX9"
   },
   "outputs": [],
   "source": [
    "np.testing.assert_array_equal(expected_value([1]), expected_value_np(np.array([1])))\n",
    "np.testing.assert_array_equal(expected_value([3, 4]), expected_value_np(np.array([3, 4])))\n",
    "np.testing.assert_array_equal(expected_value([-1, 0, 1]), expected_value_np(np.array([-1, 0, 1])))\n",
    "np.testing.assert_array_equal(expected_value([-99, -98]), expected_value_np(np.array([-99, -98])))\n",
    "\n",
    "np.testing.assert_array_equal(dispersion([1]), dispersion_np(np.array([1])))\n",
    "np.testing.assert_array_equal(dispersion([3, 4]), dispersion_np(np.array([3, 4])))\n",
    "np.testing.assert_array_equal(dispersion([-1, 0, 1]), dispersion_np(np.array([-1, 0, 1])))\n",
    "np.testing.assert_array_equal(dispersion([-99, -98]), dispersion_np(np.array([-99, -98])))"
   ]
  },
  {
   "cell_type": "markdown",
   "id": "QzL-JrqmxD8s",
   "metadata": {
    "id": "QzL-JrqmxD8s"
   },
   "source": [
    "### Different actions with matrices (3 points)"
   ]
  },
  {
   "cell_type": "markdown",
   "id": "8cRkht0DTyJm",
   "metadata": {
    "id": "8cRkht0DTyJm"
   },
   "source": [
    "Task 21.\n",
    "\n",
    "A matrix of size $(32, 3, 16, 16)$ filled with random numbers from 0 to 9 is given. Use **exactly two** transformations to make it look like $(32, 1)$. When you run a task, you can create auxiliary matrices!"
   ]
  },
  {
   "cell_type": "code",
   "execution_count": null,
   "id": "XiBftUkYUJHx",
   "metadata": {
    "id": "XiBftUkYUJHx"
   },
   "outputs": [],
   "source": [
    "data = np.random.randint(0, 10, size=(32, 3, 16, 16))\n",
    "print(data.shape)"
   ]
  },
  {
   "cell_type": "markdown",
   "id": "BlZrnx1TU3Oe",
   "metadata": {
    "id": "BlZrnx1TU3Oe"
   },
   "source": [
    "Task 22.\n",
    "\n",
    "There are two matrices $m_1$ in size $(32, 256)$ and $m_2$ in size $(32, 512)$, as well as two auxiliary matrices $W_1$ in size $(256, 32)$ and $W_2$ in size $(512, 16)$. Using the **all** data of the matrix, make the output **exactly one** matrix of size $(32, 32)$"
   ]
  },
  {
   "cell_type": "code",
   "execution_count": null,
   "id": "XiQOLjOgxENb",
   "metadata": {
    "id": "XiQOLjOgxENb"
   },
   "outputs": [],
   "source": [
    "m1 = np.random.randint(0, 10, size=(32, 256))\n",
    "m2 = np.random.randint(0, 10, size=(32, 512))\n",
    "W1 = np.random.randint(0, 10, size=(256, 32))\n",
    "W2 = np.random.randint(0, 10, size=(512, 16))\n",
    "\n",
    "a=np.dot(m1.T,m2)\n",
    "b=np.dot(a.T,W1)\n",
    "c=np.dot(b.T,W2)\n",
    "d=np.dot(m2,W2)\n",
    "e=np.dot(c,d.T)\n",
    "result = e\n",
    "\n",
    "assert result.shape == (32, 32)"
   ]
  }
 ],
 "metadata": {
  "colab": {
   "collapsed_sections": [],
   "name": "homework_1.ipynb",
   "provenance": []
  },
  "kernelspec": {
   "display_name": "Python 3",
   "language": "python",
   "name": "python3"
  },
  "language_info": {
   "codemirror_mode": {
    "name": "ipython",
    "version": 3
   },
   "file_extension": ".py",
   "mimetype": "text/x-python",
   "name": "python",
   "nbconvert_exporter": "python",
   "pygments_lexer": "ipython3",
   "version": "3.8.5"
  }
 },
 "nbformat": 4,
 "nbformat_minor": 5
}
