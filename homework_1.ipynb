{
  "cells": [
    {
      "cell_type": "markdown",
      "id": "3a2c0707",
      "metadata": {
        "id": "3a2c0707"
      },
      "source": [
        "## Homework"
      ]
    },
    {
      "cell_type": "code",
      "execution_count": 2,
      "id": "BxCGcHcxyAwh",
      "metadata": {
        "id": "BxCGcHcxyAwh"
      },
      "outputs": [],
      "source": [
        "import numpy as np"
      ]
    },
    {
      "cell_type": "markdown",
      "id": "byY0Ab4Jww36",
      "metadata": {
        "id": "byY0Ab4Jww36"
      },
      "source": [
        "### Drill (1 балл)"
      ]
    },
    {
      "cell_type": "markdown",
      "id": "g9nrcP5ExLOr",
      "metadata": {
        "id": "g9nrcP5ExLOr"
      },
      "source": [
        "Task 1.\n",
        "\n",
        "Initialize the arrays of the following forms with zeros\n",
        "\n",
        "* (5)\n",
        "* (5, 1)\n",
        "* (10, 2)\n",
        "* (3, 6, 2)\n",
        "* (4, 3, 2, 1)"
      ]
    },
    {
      "cell_type": "code",
      "execution_count": 3,
      "id": "B8UweXqZ7eb-",
      "metadata": {
        "id": "B8UweXqZ7eb-"
      },
      "outputs": [],
      "source": [
        "SHAPES=[5,(5,1),(10,2),(3,6,2),(4,3,2,1)]"
      ]
    },
    {
      "cell_type": "code",
      "execution_count": 4,
      "id": "5lNGAfdz7eRm",
      "metadata": {
        "id": "5lNGAfdz7eRm"
      },
      "outputs": [
        {
          "name": "stdout",
          "output_type": "stream",
          "text": [
            "(5,)\n",
            "(5, 1)\n",
            "(10, 2)\n",
            "(3, 6, 2)\n",
            "(4, 3, 2, 1)\n",
            "[0. 0. 0. 0. 0.]\n"
          ]
        }
      ],
      "source": [
        "rz=[np.zeros(i) for i in SHAPES]\n",
        "for i in range(len(rz)):\n",
        "    print(rz[i].shape)\n",
        "#Sample\n",
        "print(rz[0])"
      ]
    },
    {
      "cell_type": "markdown",
      "id": "nB5ePY6S5AWx",
      "metadata": {
        "id": "nB5ePY6S5AWx"
      },
      "source": [
        "Task 2.\n",
        "\n",
        "Initialize arrays of the same shapes with ones and render them to an integer form:"
      ]
    },
    {
      "cell_type": "code",
      "execution_count": 5,
      "id": "bW7_oEBw5Ga8",
      "metadata": {
        "id": "bW7_oEBw5Ga8"
      },
      "outputs": [
        {
          "name": "stdout",
          "output_type": "stream",
          "text": [
            "(5,)\n",
            "(5, 1)\n",
            "(10, 2)\n",
            "(3, 6, 2)\n",
            "(4, 3, 2, 1)\n",
            "[1 1 1 1 1]\n"
          ]
        }
      ],
      "source": [
        "ro=[np.ones(i).astype(int) for i in SHAPES]\n",
        "for i in range(len(ro)):\n",
        "    print(ro[i].shape)\n",
        "#Sample\n",
        "print(ro[0])\n"
      ]
    },
    {
      "cell_type": "markdown",
      "id": "_S7FJFXexb3o",
      "metadata": {
        "id": "_S7FJFXexb3o"
      },
      "source": [
        "Task 3.\n",
        "\n",
        "Execute on the vectors above 'reshape' to 'form'\n",
        "* with two components\n",
        "* with three components\n",
        "* with four components"
      ]
    },
    {
      "cell_type": "code",
      "execution_count": 6,
      "id": "j27PGEc17396",
      "metadata": {
        "id": "j27PGEc17396"
      },
      "outputs": [
        {
          "name": "stdout",
          "output_type": "stream",
          "text": [
            "(5, 1, 1, 1)\n",
            "(5, 1, 1, 1)\n",
            "(10, 2, 1, 1)\n",
            "(3, 6, 2, 1)\n",
            "(4, 3, 2, 1)\n"
          ]
        }
      ],
      "source": [
        "#(5,)\n",
        "#reshaping to same thing if the component count is same\n",
        "ro[0]=ro[0].reshape((5,1))\n",
        "ro[0]=ro[0].reshape((5,1,1))\n",
        "ro[0]=ro[0].reshape((5,1,1,1))\n",
        "print(ro[0].shape)\n",
        "\n",
        "#(5,1)\n",
        "ro[1]=ro[1].reshape((5,1))\n",
        "ro[1]=ro[1].reshape((5,1,1))\n",
        "ro[1]=ro[1].reshape((5,1,1,1))\n",
        "print(ro[1].shape)\n",
        "\n",
        "#(10,2)\n",
        "ro[2]=ro[2].reshape((10,2))\n",
        "ro[2]=ro[2].reshape((10,2,1))\n",
        "ro[2]=ro[2].reshape((10,2,1,1))\n",
        "print(ro[2].shape)\n",
        "\n",
        "#(3,6,2)\n",
        "ro[3]=ro[3].reshape((36,1))\n",
        "ro[3]=ro[3].reshape((3,6,2))\n",
        "ro[3]=ro[3].reshape((3,6,2,1))\n",
        "print(ro[3].shape)\n",
        "\n",
        "#(4,3,2,1)\n",
        "ro[4]=ro[4].reshape((24,1))\n",
        "ro[4]=ro[4].reshape((12,2,1))\n",
        "ro[4]=ro[4].reshape((4,3,2,1))\n",
        "print(ro[4].shape)\n",
        "\n",
        "\n"
      ]
    },
    {
      "cell_type": "markdown",
      "id": "Kp3SvzHyxyPp",
      "metadata": {
        "id": "Kp3SvzHyxyPp"
      },
      "source": [
        "Task 4.\n",
        "\n",
        "For the vector below, calculate it\n",
        "* Maximum 1 axis\n",
        "* Minimum 0 axis\n",
        "* Sum in all axes\n",
        "* Average on 0 axis\n",
        "* Median 1 axis"
      ]
    },
    {
      "cell_type": "code",
      "execution_count": 7,
      "id": "5GcaTzGPx9Tk",
      "metadata": {
        "id": "5GcaTzGPx9Tk"
      },
      "outputs": [
        {
          "data": {
            "text/plain": [
              "array([[4, 1, 1, 3, 2, 1, 3],\n",
              "       [0, 7, 5, 5, 4, 5, 7],\n",
              "       [1, 7, 0, 6, 6, 8, 8],\n",
              "       [6, 4, 1, 0, 3, 7, 4],\n",
              "       [0, 4, 5, 6, 4, 0, 7]])"
            ]
          },
          "execution_count": 7,
          "metadata": {},
          "output_type": "execute_result"
        }
      ],
      "source": [
        "v = np.random.randint(0, 9, size=(5, 7))   \n",
        "v"
      ]
    },
    {
      "cell_type": "code",
      "execution_count": 8,
      "id": "vUtBVwG58A4S",
      "metadata": {
        "id": "vUtBVwG58A4S"
      },
      "outputs": [
        {
          "name": "stdout",
          "output_type": "stream",
          "text": [
            "[4 7 8 7 7]\n",
            "[0 1 0 0 2 0 3]\n",
            "[11 23 12 20 19 21 29]\n",
            "[15 33 36 25 26]\n",
            "135\n",
            "[2.2 4.6 2.4 4.  3.8 4.2 5.8]\n",
            "[2. 5. 6. 4. 4.]\n"
          ]
        }
      ],
      "source": [
        "#Maximum 1 axis\n",
        "print(np.amax(v,axis=1))\n",
        "\n",
        "#Minimum 0 axis\n",
        "print(np.amin(v,axis=0))\n",
        "\n",
        "#Sum all axes\n",
        "print(np.sum(v,axis=0))\n",
        "print(np.sum(v,axis=1))\n",
        "print(np.sum(v))\n",
        "\n",
        "#Average on axis 0\n",
        "print(np.mean(v,axis=0))\n",
        "\n",
        "#Median on axis 1\n",
        "print(np.median(v,axis=1))\n"
      ]
    },
    {
      "cell_type": "markdown",
      "id": "EiVqZFtpyOHm",
      "metadata": {
        "id": "EiVqZFtpyOHm"
      },
      "source": [
        "Task 5.\n",
        "\n",
        "For the same vector 'v' derive\n",
        "* Its shape\n",
        "* 0 component of its 'shape'\n",
        "* 1 component of its 'shape'"
      ]
    },
    {
      "cell_type": "code",
      "execution_count": 9,
      "id": "erPBnY1O8dPC",
      "metadata": {
        "id": "erPBnY1O8dPC"
      },
      "outputs": [
        {
          "name": "stdout",
          "output_type": "stream",
          "text": [
            "(5, 7)\n",
            "5\n",
            "7\n"
          ]
        }
      ],
      "source": [
        "print(v.shape)\n",
        "print(v.shape[0])\n",
        "print(v.shape[1])"
      ]
    },
    {
      "cell_type": "markdown",
      "id": "9bdU9sq1ygiF",
      "metadata": {
        "id": "9bdU9sq1ygiF"
      },
      "source": [
        "Task 6.\n",
        "\n",
        "For the same vector, derive\n",
        "* All numbers greater than 5\n",
        "* All numbers less than 7 in reverse order\n",
        "* All numbers greater than 3, which are divided by 4 without residue\n",
        "* All numbers whose remainder from dividing by 5 is 3\n",
        "* Maximum index\n",
        "* Minimum index\n",
        "* List with indexes of the elements of the sorted array in the original (unsorted)"
      ]
    },
    {
      "cell_type": "code",
      "execution_count": 10,
      "id": "zyG7jPXr8j-x",
      "metadata": {
        "id": "zyG7jPXr8j-x"
      },
      "outputs": [
        {
          "name": "stdout",
          "output_type": "stream",
          "text": [
            "[7 7 7 6 6 8 8 6 7 6 7]\n",
            "[0 4 6 5 4 0 4 3 0 1 4 6 6 6 0 1 5 4 5 5 0 3 1 2 3 1 1 4]\n",
            "[4 4 8 8 4 4 4 4]\n",
            "[3 3 8 8 3]\n",
            "19\n",
            "7\n",
            "[[1 2 5 4 3 6 0]\n",
            " [0 4 2 3 5 1 6]\n",
            " [2 0 3 4 1 5 6]\n",
            " [3 2 4 1 6 0 5]\n",
            " [0 5 1 4 2 3 6]]\n"
          ]
        }
      ],
      "source": [
        "print(v[v>5])\n",
        "print(v[v<7][::-1])\n",
        "print(v[(v>3) & (v%4==0)])\n",
        "print(v[v%5==3])\n",
        "print(np.argmax(v))\n",
        "print(np.argmin(v))\n",
        "print(np.argsort(v))"
      ]
    },
    {
      "cell_type": "markdown",
      "id": "pd7gVNl9zN-s",
      "metadata": {
        "id": "pd7gVNl9zN-s"
      },
      "source": [
        "Task 7.\n",
        "\n",
        "Perform the following operations on the vector (independently, it is not necessary to do this in sequence):\n",
        "* Multiply it by 3\n",
        "* Divide by 7\n",
        "* Elevate to the degree of $frac{2}{3}$\n",
        "* Count $sin$ from it\n",
        "* Count $log$ from it"
      ]
    },
    {
      "cell_type": "code",
      "execution_count": 11,
      "id": "cVcWVkYJ8qpx",
      "metadata": {
        "id": "cVcWVkYJ8qpx"
      },
      "outputs": [
        {
          "name": "stdout",
          "output_type": "stream",
          "text": [
            "[[12  3  3  9  6  3  9]\n",
            " [ 0 21 15 15 12 15 21]\n",
            " [ 3 21  0 18 18 24 24]\n",
            " [18 12  3  0  9 21 12]\n",
            " [ 0 12 15 18 12  0 21]]\n",
            "[[0.57142857 0.14285714 0.14285714 0.42857143 0.28571429 0.14285714\n",
            "  0.42857143]\n",
            " [0.         1.         0.71428571 0.71428571 0.57142857 0.71428571\n",
            "  1.        ]\n",
            " [0.14285714 1.         0.         0.85714286 0.85714286 1.14285714\n",
            "  1.14285714]\n",
            " [0.85714286 0.57142857 0.14285714 0.         0.42857143 1.\n",
            "  0.57142857]\n",
            " [0.         0.57142857 0.71428571 0.85714286 0.57142857 0.\n",
            "  1.        ]]\n",
            "[[2.5198421  1.         1.         2.08008382 1.58740105 1.\n",
            "  2.08008382]\n",
            " [0.         3.65930571 2.92401774 2.92401774 2.5198421  2.92401774\n",
            "  3.65930571]\n",
            " [1.         3.65930571 0.         3.30192725 3.30192725 4.\n",
            "  4.        ]\n",
            " [3.30192725 2.5198421  1.         0.         2.08008382 3.65930571\n",
            "  2.5198421 ]\n",
            " [0.         2.5198421  2.92401774 3.30192725 2.5198421  0.\n",
            "  3.65930571]]\n",
            "[[-0.7568025   0.84147098  0.84147098  0.14112001  0.90929743  0.84147098\n",
            "   0.14112001]\n",
            " [ 0.          0.6569866  -0.95892427 -0.95892427 -0.7568025  -0.95892427\n",
            "   0.6569866 ]\n",
            " [ 0.84147098  0.6569866   0.         -0.2794155  -0.2794155   0.98935825\n",
            "   0.98935825]\n",
            " [-0.2794155  -0.7568025   0.84147098  0.          0.14112001  0.6569866\n",
            "  -0.7568025 ]\n",
            " [ 0.         -0.7568025  -0.95892427 -0.2794155  -0.7568025   0.\n",
            "   0.6569866 ]]\n",
            "[[1.38629436 0.         0.         1.09861229 0.69314718 0.\n",
            "  1.09861229]\n",
            " [      -inf 1.94591015 1.60943791 1.60943791 1.38629436 1.60943791\n",
            "  1.94591015]\n",
            " [0.         1.94591015       -inf 1.79175947 1.79175947 2.07944154\n",
            "  2.07944154]\n",
            " [1.79175947 1.38629436 0.               -inf 1.09861229 1.94591015\n",
            "  1.38629436]\n",
            " [      -inf 1.38629436 1.60943791 1.79175947 1.38629436       -inf\n",
            "  1.94591015]]\n"
          ]
        },
        {
          "name": "stderr",
          "output_type": "stream",
          "text": [
            "C:\\Users\\ABDULA~1\\AppData\\Local\\Temp/ipykernel_16748/1333596073.py:5: RuntimeWarning: divide by zero encountered in log\n",
            "  print(np.log(v))\n"
          ]
        }
      ],
      "source": [
        "print(v*3)\n",
        "print(v/7)\n",
        "print(np.power(v,2/3))\n",
        "print(np.sin(v))\n",
        "print(np.log(v))"
      ]
    },
    {
      "cell_type": "markdown",
      "id": "Njvzyat9w9Jw",
      "metadata": {
        "id": "Njvzyat9w9Jw"
      },
      "source": [
        "### Different initializations + indexing (3 points)"
      ]
    },
    {
      "cell_type": "markdown",
      "id": "IXB2M-hrB1C5",
      "metadata": {
        "id": "IXB2M-hrB1C5"
      },
      "source": [
        "Task 8.\n",
        "\n",
        "Build a square of $3 \\times 3$ from odd numbers"
      ]
    },
    {
      "cell_type": "code",
      "execution_count": 12,
      "id": "76yrPH6q842y",
      "metadata": {
        "id": "76yrPH6q842y"
      },
      "outputs": [
        {
          "name": "stdout",
          "output_type": "stream",
          "text": [
            "[[ 1  3  5]\n",
            " [ 7  9 11]\n",
            " [13 15 17]]\n"
          ]
        }
      ],
      "source": [
        "arr=np.arange(1,19,2).reshape((3,3))\n",
        "print(arr)"
      ]
    },
    {
      "cell_type": "markdown",
      "id": "HmlcbwtOB5OT",
      "metadata": {
        "id": "HmlcbwtOB5OT"
      },
      "source": [
        "Task 9.\n",
        "\n",
        "Construct a square of $4 \\times 4$ from even numbers in reverse order"
      ]
    },
    {
      "cell_type": "code",
      "execution_count": 13,
      "id": "oXCpC2Rv88tS",
      "metadata": {
        "id": "oXCpC2Rv88tS"
      },
      "outputs": [
        {
          "name": "stdout",
          "output_type": "stream",
          "text": [
            "[[ 2  4  6  8]\n",
            " [10 12 14 16]\n",
            " [18 20 22 24]\n",
            " [26 28 30 32]]\n"
          ]
        }
      ],
      "source": [
        "arr=np.arange(2,33,2).reshape(4,4)\n",
        "print(arr)"
      ]
    },
    {
      "cell_type": "markdown",
      "id": "IeOvIqrFB8zI",
      "metadata": {
        "id": "IeOvIqrFB8zI"
      },
      "source": [
        "Task 10.\n",
        "\n",
        "Build a grid of coordinates $11 \\times 11$ with a dot $(0.0)$ in the center and a step of $0.1$ between the cells"
      ]
    },
    {
      "cell_type": "code",
      "execution_count": 30,
      "id": "s2wBq1It9Hgr",
      "metadata": {
        "id": "s2wBq1It9Hgr"
      },
      "outputs": [
        {
          "name": "stdout",
          "output_type": "stream",
          "text": [
            "[[-5.5 -5.4 -5.3 -5.2 -5.1 -5.  -4.9 -4.8 -4.7 -4.6 -4.5]\n",
            " [-4.5 -4.4 -4.3 -4.2 -4.1 -4.  -3.9 -3.8 -3.7 -3.6 -3.5]\n",
            " [-3.5 -3.4 -3.3 -3.2 -3.1 -3.  -2.9 -2.8 -2.7 -2.6 -2.5]\n",
            " [-2.5 -2.4 -2.3 -2.2 -2.1 -2.  -1.9 -1.8 -1.7 -1.6 -1.5]\n",
            " [-1.5 -1.4 -1.3 -1.2 -1.1 -1.  -0.9 -0.8 -0.7 -0.6 -0.5]\n",
            " [-0.5 -0.4 -0.3 -0.2 -0.1  0.   0.1  0.2  0.3  0.4  0.5]\n",
            " [ 0.5  0.6  0.7  0.8  0.9  1.   1.1  1.2  1.3  1.4  1.5]\n",
            " [ 1.5  1.6  1.7  1.8  1.9  2.   2.1  2.2  2.3  2.4  2.5]\n",
            " [ 2.5  2.6  2.7  2.8  2.9  3.   3.1  3.2  3.3  3.4  3.5]\n",
            " [ 3.5  3.6  3.7  3.8  3.9  4.   4.1  4.2  4.3  4.4  4.5]\n",
            " [ 4.5  4.6  4.7  4.8  4.9  5.   5.1  5.2  5.3  5.4  5.5]]\n"
          ]
        }
      ],
      "source": [
        "x=[float(i) for i in range(-5,6,1)]\n",
        "y=[i/10 for i in range(-5,6,1)]\n",
        "xa,xb=np.meshgrid(x,y,indexing='ij')\n",
        "print(xa+xb)"
      ]
    },
    {
      "cell_type": "markdown",
      "id": "BQD_BNN-CqCm",
      "metadata": {
        "id": "BQD_BNN-CqCm"
      },
      "source": [
        "Task 11.\n",
        "\n",
        "Tiling a mesh of $8\\times8$ with $0$ and $1$ in a staggered manner, a cage with an index of $(0.0)$ is paved with $1$"
      ]
    },
    {
      "cell_type": "code",
      "execution_count": 23,
      "id": "TjaC8zDJ9XLz",
      "metadata": {
        "id": "TjaC8zDJ9XLz"
      },
      "outputs": [
        {
          "name": "stdout",
          "output_type": "stream",
          "text": [
            "[[1 0 1 0 1 0 1 0]\n",
            " [0 1 0 1 0 1 0 1]\n",
            " [1 0 1 0 1 0 1 0]\n",
            " [0 1 0 1 0 1 0 1]\n",
            " [1 0 1 0 1 0 1 0]\n",
            " [0 1 0 1 0 1 0 1]\n",
            " [1 0 1 0 1 0 1 0]\n",
            " [0 1 0 1 0 1 0 1]]\n"
          ]
        }
      ],
      "source": [
        "mesh=np.ones((8,8),dtype=int)\n",
        "mesh[1::2,::2]=0 # 0-1-0-1\n",
        "mesh[::2,1::2]=0 # 1-0-1-0\n",
        "print(mesh)"
      ]
    },
    {
      "cell_type": "markdown",
      "id": "xeL6jav0w0U-",
      "metadata": {
        "id": "xeL6jav0w0U-"
      },
      "source": [
        "### Operations + aggregations (3 points)"
      ]
    },
    {
      "cell_type": "markdown",
      "id": "vOPIAFopHUKs",
      "metadata": {
        "id": "vOPIAFopHUKs"
      },
      "source": [
        "Task 16.\n",
        "\n",
        "A sample of ${X_i}$ of some random variable $X$ is given, it is necessary to estimate\n",
        "* Expected $E[X] = \\frac{1}{N}\\sum_{i=1}^N X_i$ of this random variable\n",
        "* Variance $D[X] = \\frac{1}{N}\\sum_{i=1}^N (X_i - E[X])^2$ of this random variable"
      ]
    },
    {
      "cell_type": "code",
      "execution_count": 15,
      "id": "uHQ-DiR4JB0p",
      "metadata": {
        "id": "uHQ-DiR4JB0p"
      },
      "outputs": [],
      "source": [
        "def expected_value(x):\n",
        "    assert len(x) > 0\n",
        "    return 1/len(x) * np.sum(x) \n",
        "\n",
        "\n",
        "def dispersion(x):\n",
        "    assert len(x) > 0\n",
        "    return 1/len(x) * np.sum((x-expected_value(x))**2 )"
      ]
    },
    {
      "cell_type": "code",
      "execution_count": 16,
      "id": "XVFo8hitHSav",
      "metadata": {
        "id": "XVFo8hitHSav"
      },
      "outputs": [],
      "source": [
        "def expected_value_np(x):\n",
        "    return np.mean(x)"
      ]
    },
    {
      "cell_type": "code",
      "execution_count": 17,
      "id": "f2jCC5EjJkl0",
      "metadata": {
        "id": "f2jCC5EjJkl0"
      },
      "outputs": [],
      "source": [
        "def dispersion_np(x):\n",
        "    return np.var(x)"
      ]
    },
    {
      "cell_type": "code",
      "execution_count": 18,
      "id": "dEGp_cuFJoX9",
      "metadata": {
        "id": "dEGp_cuFJoX9"
      },
      "outputs": [],
      "source": [
        "np.testing.assert_array_equal(expected_value([1]), expected_value_np(np.array([1])))\n",
        "np.testing.assert_array_equal(expected_value([3, 4]), expected_value_np(np.array([3, 4])))\n",
        "np.testing.assert_array_equal(expected_value([-1, 0, 1]), expected_value_np(np.array([-1, 0, 1])))\n",
        "np.testing.assert_array_equal(expected_value([-99, -98]), expected_value_np(np.array([-99, -98])))\n",
        "\n",
        "np.testing.assert_array_equal(dispersion([1]), dispersion_np(np.array([1])))\n",
        "np.testing.assert_array_equal(dispersion([3, 4]), dispersion_np(np.array([3, 4])))\n",
        "np.testing.assert_array_equal(dispersion([-1, 0, 1]), dispersion_np(np.array([-1, 0, 1])))\n",
        "np.testing.assert_array_equal(dispersion([-99, -98]), dispersion_np(np.array([-99, -98])))"
      ]
    },
    {
      "cell_type": "markdown",
      "id": "QzL-JrqmxD8s",
      "metadata": {
        "id": "QzL-JrqmxD8s"
      },
      "source": [
        "### Different actions with matrices (3 points)"
      ]
    },
    {
      "cell_type": "markdown",
      "id": "8cRkht0DTyJm",
      "metadata": {
        "id": "8cRkht0DTyJm"
      },
      "source": [
        "Task 21.\n",
        "\n",
        "A matrix of size $(32, 3, 16, 16)$ filled with random numbers from 0 to 9 is given. Use **exactly two** transformations to make it look like $(32, 1)$. When you run a task, you can create auxiliary matrices!"
      ]
    },
    {
      "cell_type": "code",
      "execution_count": 19,
      "id": "XiBftUkYUJHx",
      "metadata": {
        "id": "XiBftUkYUJHx"
      },
      "outputs": [
        {
          "name": "stdout",
          "output_type": "stream",
          "text": [
            "(32, 1)\n"
          ]
        }
      ],
      "source": [
        "data = np.random.randint(0, 10, size=(32, 3, 16, 16))\n",
        "data=data.reshape((32,-1))\n",
        "aux=np.random.randint(0,10,size=(16*16*3,1))\n",
        "data=np.dot(data,aux)\n",
        "print(data.shape)"
      ]
    },
    {
      "cell_type": "markdown",
      "id": "BlZrnx1TU3Oe",
      "metadata": {
        "id": "BlZrnx1TU3Oe"
      },
      "source": [
        "Task 22.\n",
        "\n",
        "There are two matrices $m_1$ in size $(32, 256)$ and $m_2$ in size $(32, 512)$, as well as two auxiliary matrices $W_1$ in size $(256, 32)$ and $W_2$ in size $(512, 16)$. Using the **all** data of the matrix, make the output **exactly one** matrix of size $(32, 32)$"
      ]
    },
    {
      "cell_type": "code",
      "execution_count": 20,
      "id": "XiQOLjOgxENb",
      "metadata": {
        "id": "XiQOLjOgxENb"
      },
      "outputs": [],
      "source": [
        "m1 = np.random.randint(0, 10, size=(32, 256))\n",
        "m2 = np.random.randint(0, 10, size=(32, 512))\n",
        "W1 = np.random.randint(0, 10, size=(256, 32))\n",
        "W2 = np.random.randint(0, 10, size=(512, 16))\n",
        "\n",
        "a=np.dot(m1.T,m2)\n",
        "b=np.dot(a.T,W1)\n",
        "c=np.dot(b.T,W2)\n",
        "d=np.dot(m2,W2)\n",
        "e=np.dot(c,d.T)\n",
        "result = e\n",
        "\n",
        "assert result.shape == (32, 32)"
      ]
    }
  ],
  "metadata": {
    "colab": {
      "collapsed_sections": [],
      "name": "homework_1.ipynb",
      "provenance": []
    },
    "interpreter": {
      "hash": "7f85bc9f8f777ffb2845c039f6031879816f4da69763d1b18149d2141810699c"
    },
    "kernelspec": {
      "display_name": "Python 3.9.7 64-bit",
      "language": "python",
      "name": "python3"
    },
    "language_info": {
      "codemirror_mode": {
        "name": "ipython",
        "version": 3
      },
      "file_extension": ".py",
      "mimetype": "text/x-python",
      "name": "python",
      "nbconvert_exporter": "python",
      "pygments_lexer": "ipython3",
      "version": "3.9.7"
    }
  },
  "nbformat": 4,
  "nbformat_minor": 5
}
