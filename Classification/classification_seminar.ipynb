{
  "nbformat": 4,
  "nbformat_minor": 0,
  "metadata": {
    "kernelspec": {
      "display_name": "Python 3",
      "language": "python",
      "name": "python3"
    },
    "language_info": {
      "codemirror_mode": {
        "name": "ipython",
        "version": 3
      },
      "file_extension": ".py",
      "mimetype": "text/x-python",
      "name": "python",
      "nbconvert_exporter": "python",
      "pygments_lexer": "ipython3",
      "version": "3.7.3"
    },
    "colab": {
      "name": "classification_seminar.ipynb",
      "provenance": [],
      "collapsed_sections": []
    }
  },
  "cells": [
    {
      "cell_type": "markdown",
      "metadata": {
        "id": "tSBpjsnMxbHF"
      },
      "source": [
        "# Classification.\n",
        "# Logistic Regression. KNN. Metrics.\n",
        "\n",
        "Author: (andrewgarkavyy@gmail.com)\n",
        "\n",
        "\n",
        "## 0. Contents\n",
        "\n",
        "1. Logistic regression: theory\n",
        "\n",
        "2. Logistic regression: practice\n",
        "\n",
        "3. Comparison with KNN\n",
        "\n",
        "3. Precision/Recall\n",
        "\n",
        "4. ROC-AUC\n",
        "\n",
        "5. Non-binary classification\n",
        "\n",
        "## 1. Logistic regression: theory\n",
        "(regression in the title, but it's actually a classification algorithm)\n",
        "\n",
        "\n",
        "Consider * * the classification problem**. For simplicity, let's consider a binary classification: for each example in the training set, its class is specified: 0 or 1.\n",
        "\n",
        "We need to learn how to restore a class based on its features."
      ]
    },
    {
      "cell_type": "markdown",
      "metadata": {
        "id": "O9HqvIX6xbHJ"
      },
      "source": [
        "We already know how to predict numbers (solve a regression problem) using a Linear Regression model. The easiest way is to use it to predict classes? Namely, we will simply predict these 0s and 1s.\n",
        "\n",
        "It is even clear how to decide from the predicted number which class it is - if it is greater than 0.5, then class 1, otherwise class 0. \n",
        "(actually not so clear, this threshold is just intuitive choice, there is ROC-AUC metrics which don't depende on this human choice while estimating model's performance)."
      ]
    },
    {
      "cell_type": "markdown",
      "metadata": {
        "id": "3ne1neRlxbHK"
      },
      "source": [
        "This approach works, but it is somewhat unnatural: suppose our model predicted the value 2 for an object of class 1. For such a prediction, it will receive the same punishment as for predicting 0: $(2-1)^2 = (0-1)^2$.\n",
        "\n",
        "Let's try to come up with a more natural loss function. It is natural to assume that the larger the prediction of our model, the more confident it is that the object belongs to class 1.Let's try to interpret the model's prediction as the probability that the object belongs to class 1.\n",
        "\n",
        "The model (theoretically) can output values from minus to plus infinity, so we need to learn how to turn the interval $(-\\infty, \\infty)$ into the interval $(0, 1)$. Such functions are called sigmoids because they resemble the letter s in appearance. The most standard such function is called the logistic function and looks like this:\n",
        "$$\n",
        " \\sigma(x) = \\frac{1}{1 + e^{-x}}\n",
        "$$"
      ]
    },
    {
      "cell_type": "code",
      "metadata": {
        "id": "o45hFgqCb11N"
      },
      "source": [
        "%matplotlib inline\n",
        "from matplotlib import pyplot as plt \n",
        "import numpy as np\n",
        "import pandas as pd"
      ],
      "execution_count": null,
      "outputs": []
    },
    {
      "cell_type": "code",
      "metadata": {
        "id": "30nsqU_txbHa"
      },
      "source": [
        "# sigmoid function\n",
        "def sigmoid(x):\n",
        "    return 1.0 / (1 + np.exp(-x))"
      ],
      "execution_count": null,
      "outputs": []
    },
    {
      "cell_type": "code",
      "metadata": {
        "id": "Tg7ZLLlxxbHh",
        "colab": {
          "base_uri": "https://localhost:8080/",
          "height": 282
        },
        "outputId": "994f5b28-2cce-43ac-c03b-bec1e285b148"
      },
      "source": [
        "x = np.linspace(-5, 5, 100)\n",
        "plt.plot(x, sigmoid(x))"
      ],
      "execution_count": null,
      "outputs": [
        {
          "output_type": "execute_result",
          "data": {
            "text/plain": [
              "[<matplotlib.lines.Line2D at 0x7fb3866630d0>]"
            ]
          },
          "metadata": {},
          "execution_count": 4
        },
        {
          "output_type": "display_data",
          "data": {
            "text/plain": [
              "<Figure size 432x288 with 1 Axes>"
            ],
            "image/png": "[encoded data removed]"
          },
          "metadata": {
            "needs_background": "light"
          }
        }
      ]
    },
    {
      "cell_type": "markdown",
      "metadata": {
        "id": "HLTa-5KaxbHt"
      },
      "source": [
        "So, we can assume that if our model predicts the number $f(x)$ for an object $x$, this means that $p_x$ = $\\sigma(f(x))$ - probability that the object belongs to class 1.\n",
        "\n",
        "For this class 1 example, the probability that our model guessed correctly is $p_x$; for the class 0 example, this probability is $1-p_x$.\n",
        "\n",
        "Let's calculate the probability that our model will 'guess' the value of all elements:\n",
        "\n",
        "$$\\prod_{x \\in 1} p_x \\prod_{x \\in 0} (1-p_x)$$\n",
        "\n",
        "We want to maximize this probability.\n",
        "\n",
        "Working with the product is inconvenient, so let's take the logarithm:\n",
        "\n",
        "$$\\sum_{x \\in 1} \\ln(p_x)  + \\sum_{x \\in 0} \\ln(1-p_x)$$\n",
        "\n",
        "This would make a great loss function, but we want to minimize the loss function, and this function needs to be maximized for the best result. So multiply it by minus one.\n",
        "\n",
        "$$Logloss = -\\sum_{x \\in 1} \\ln(p_x)  - \\sum_{x \\in 0} \\ln(1-p_x)$$\n",
        "\n",
        "This loss function is called Logloss. It turns out that it is quite simple to optimize.\n",
        "\n",
        "The algorithm we describe is called * * Logistic regression**. This is a binary classification algorithm (not regression, don't let the name confuse you):\n",
        "\n",
        "1) the algorithm predicts $f(x)$ using a linear regression model ($f(x) = a_0 + a_1 x_1 + \\ldots a_n x_n$)\n",
        "\n",
        "2) from each value, a sigmoid is considered to predict the probability ($p_x = \\sigma(f(x)) = \\frac{1}{1 + e^{f(x)}}$)\n",
        "\n",
        "3) these probabilities are considered Logloss ($Logloss = - \\sum_{x \\in 1} \\ln(p_x) - \\sum_{x \\in 0} \\ln(1-p_x)$)\n",
        "\n",
        "4) parameters for the model are selected so that this logloss is minimal\n",
        "\n",
        "5) the prediction is then made as follows: if the probability is greater than 0.5 (i.e. f(x) 0), then it is class 1, otherwise it is class 0.\n",
        "\n",
        "You can also imagine that you are trying to separate points of two different colors using a plane. You predict all points in one half-space as class 0, and in the other half-space as class 1.\n",
        "\n",
        "# 2. Logistic Regression: practice\n",
        "\n",
        "As usual, this model is already available in the sklearn library."
      ]
    },
    {
      "cell_type": "code",
      "metadata": {
        "id": "Wl_OOGwoxbHt"
      },
      "source": [
        "from sklearn.linear_model import LogisticRegression\n",
        "\n",
        "log_reg = LogisticRegression(max_iter=1000) "
      ],
      "execution_count": null,
      "outputs": []
    },
    {
      "cell_type": "markdown",
      "metadata": {
        "id": "trG5ylQkxbIK"
      },
      "source": [
        "We will work with a dataset containing data on about 18 thousand stars, some of which are pulsars."
      ]
    },
    {
      "cell_type": "markdown",
      "metadata": {
        "id": "MHeSdnGc4xqK"
      },
      "source": [
        "Do the bottom lines if you are working on google colab"
      ]
    },
    {
      "cell_type": "code",
      "metadata": {
        "id": "7zlJpDFS4u0y",
        "colab": {
          "base_uri": "https://localhost:8080/"
        },
        "outputId": "64a788b9-e979-4836-9d43-604b18adaf7e"
      },
      "source": [
        "from google.colab import drive\n",
        "drive.mount('/content/drive')"
      ],
      "execution_count": null,
      "outputs": [
        {
          "output_type": "stream",
          "name": "stdout",
          "text": [
            "Mounted at /content/drive\n"
          ]
        }
      ]
    },
    {
      "cell_type": "markdown",
      "metadata": {
        "id": "WntNKALk4u01"
      },
      "source": [
        "Dataset: https://drive.google.com/file/d/1U4KWzrf5xAX09act1bjDjxNkMMmy7Ek1/view?usp=sharing"
      ]
    },
    {
      "cell_type": "code",
      "metadata": {
        "id": "EEdYXeatxbIK"
      },
      "source": [
        "import pandas as pd \n",
        "data = pd.read_csv('/content/drive/My Drive/Tinkoff Generation Exam/pulsar_stars.csv')\n",
        "\n",
        "X = data.drop(columns=['target_class']) # убираем столбец с целевой переменной\n",
        "y = data['target_class']"
      ],
      "execution_count": null,
      "outputs": []
    },
    {
      "cell_type": "code",
      "metadata": {
        "id": "6511NOqlxbIN",
        "outputId": "c36e74d4-1f8e-47cf-e203-e152bc3bfc97",
        "colab": {
          "base_uri": "https://localhost:8080/",
          "height": 268
        }
      },
      "source": [
        "data.head()"
      ],
      "execution_count": null,
      "outputs": [
        {
          "output_type": "execute_result",
          "data": {
            "text/plain": [
              "    Mean of the integrated profile  \\\n",
              "0                       140.562500   \n",
              "1                       102.507812   \n",
              "2                       103.015625   \n",
              "3                       136.750000   \n",
              "4                        88.726562   \n",
              "\n",
              "    Standard deviation of the integrated profile  \\\n",
              "0                                      55.683782   \n",
              "1                                      58.882430   \n",
              "2                                      39.341649   \n",
              "3                                      57.178449   \n",
              "4                                      40.672225   \n",
              "\n",
              "    Excess kurtosis of the integrated profile  \\\n",
              "0                                   -0.234571   \n",
              "1                                    0.465318   \n",
              "2                                    0.323328   \n",
              "3                                   -0.068415   \n",
              "4                                    0.600866   \n",
              "\n",
              "    Skewness of the integrated profile   Mean of the DM-SNR curve  \\\n",
              "0                            -0.699648                   3.199833   \n",
              "1                            -0.515088                   1.677258   \n",
              "2                             1.051164                   3.121237   \n",
              "3                            -0.636238                   3.642977   \n",
              "4                             1.123492                   1.178930   \n",
              "\n",
              "    Standard deviation of the DM-SNR curve  \\\n",
              "0                                19.110426   \n",
              "1                                14.860146   \n",
              "2                                21.744669   \n",
              "3                                20.959280   \n",
              "4                                11.468720   \n",
              "\n",
              "    Excess kurtosis of the DM-SNR curve   Skewness of the DM-SNR curve  \\\n",
              "0                              7.975532                      74.242225   \n",
              "1                             10.576487                     127.393580   \n",
              "2                              7.735822                      63.171909   \n",
              "3                              6.896499                      53.593661   \n",
              "4                             14.269573                     252.567306   \n",
              "\n",
              "   target_class  \n",
              "0             0  \n",
              "1             0  \n",
              "2             0  \n",
              "3             0  \n",
              "4             0  "
            ],
            "text/html": [
              "\n",
              "  <div id=\"df-dba83a6f-52de-490b-8f15-883b21652bf5\">\n",
              "    <div class=\"colab-df-container\">\n",
              "      <div>\n",
              "<style scoped>\n",
              "    .dataframe tbody tr th:only-of-type {\n",
              "        vertical-align: middle;\n",
              "    }\n",
              "\n",
              "    .dataframe tbody tr th {\n",
              "        vertical-align: top;\n",
              "    }\n",
              "\n",
              "    .dataframe thead th {\n",
              "        text-align: right;\n",
              "    }\n",
              "</style>\n",
              "<table border=\"1\" class=\"dataframe\">\n",
              "  <thead>\n",
              "    <tr style=\"text-align: right;\">\n",
              "      <th></th>\n",
              "      <th>Mean of the integrated profile</th>\n",
              "      <th>Standard deviation of the integrated profile</th>\n",
              "      <th>Excess kurtosis of the integrated profile</th>\n",
              "      <th>Skewness of the integrated profile</th>\n",
              "      <th>Mean of the DM-SNR curve</th>\n",
              "      <th>Standard deviation of the DM-SNR curve</th>\n",
              "      <th>Excess kurtosis of the DM-SNR curve</th>\n",
              "      <th>Skewness of the DM-SNR curve</th>\n",
              "      <th>target_class</th>\n",
              "    </tr>\n",
              "  </thead>\n",
              "  <tbody>\n",
              "    <tr>\n",
              "      <th>0</th>\n",
              "      <td>140.562500</td>\n",
              "      <td>55.683782</td>\n",
              "      <td>-0.234571</td>\n",
              "      <td>-0.699648</td>\n",
              "      <td>3.199833</td>\n",
              "      <td>19.110426</td>\n",
              "      <td>7.975532</td>\n",
              "      <td>74.242225</td>\n",
              "      <td>0</td>\n",
              "    </tr>\n",
              "    <tr>\n",
              "      <th>1</th>\n",
              "      <td>102.507812</td>\n",
              "      <td>58.882430</td>\n",
              "      <td>0.465318</td>\n",
              "      <td>-0.515088</td>\n",
              "      <td>1.677258</td>\n",
              "      <td>14.860146</td>\n",
              "      <td>10.576487</td>\n",
              "      <td>127.393580</td>\n",
              "      <td>0</td>\n",
              "    </tr>\n",
              "    <tr>\n",
              "      <th>2</th>\n",
              "      <td>103.015625</td>\n",
              "      <td>39.341649</td>\n",
              "      <td>0.323328</td>\n",
              "      <td>1.051164</td>\n",
              "      <td>3.121237</td>\n",
              "      <td>21.744669</td>\n",
              "      <td>7.735822</td>\n",
              "      <td>63.171909</td>\n",
              "      <td>0</td>\n",
              "    </tr>\n",
              "    <tr>\n",
              "      <th>3</th>\n",
              "      <td>136.750000</td>\n",
              "      <td>57.178449</td>\n",
              "      <td>-0.068415</td>\n",
              "      <td>-0.636238</td>\n",
              "      <td>3.642977</td>\n",
              "      <td>20.959280</td>\n",
              "      <td>6.896499</td>\n",
              "      <td>53.593661</td>\n",
              "      <td>0</td>\n",
              "    </tr>\n",
              "    <tr>\n",
              "      <th>4</th>\n",
              "      <td>88.726562</td>\n",
              "      <td>40.672225</td>\n",
              "      <td>0.600866</td>\n",
              "      <td>1.123492</td>\n",
              "      <td>1.178930</td>\n",
              "      <td>11.468720</td>\n",
              "      <td>14.269573</td>\n",
              "      <td>252.567306</td>\n",
              "      <td>0</td>\n",
              "    </tr>\n",
              "  </tbody>\n",
              "</table>\n",
              "</div>\n",
              "      <button class=\"colab-df-convert\" onclick=\"convertToInteractive('df-dba83a6f-52de-490b-8f15-883b21652bf5')\"\n",
              "              title=\"Convert this dataframe to an interactive table.\"\n",
              "              style=\"display:none;\">\n",
              "        \n",
              "  <svg xmlns=\"http://www.w3.org/2000/svg\" height=\"24px\"viewBox=\"0 0 24 24\"\n",
              "       width=\"24px\">\n",
              "    <path d=\"M0 0h24v24H0V0z\" fill=\"none\"/>\n",
              "    <path d=\"M18.56 5.44l.94 2.06.94-2.06 2.06-.94-2.06-.94-.94-2.06-.94 2.06-2.06.94zm-11 1L8.5 8.5l.94-2.06 2.06-.94-2.06-.94L8.5 2.5l-.94 2.06-2.06.94zm10 10l.94 2.06.94-2.06 2.06-.94-2.06-.94-.94-2.06-.94 2.06-2.06.94z\"/><path d=\"M17.41 7.96l-1.37-1.37c-.4-.4-.92-.59-1.43-.59-.52 0-1.04.2-1.43.59L10.3 9.45l-7.72 7.72c-.78.78-.78 2.05 0 2.83L4 21.41c.39.39.9.59 1.41.59.51 0 1.02-.2 1.41-.59l7.78-7.78 2.81-2.81c.8-.78.8-2.07 0-2.86zM5.41 20L4 18.59l7.72-7.72 1.47 1.35L5.41 20z\"/>\n",
              "  </svg>\n",
              "      </button>\n",
              "      \n",
              "  <style>\n",
              "    .colab-df-container {\n",
              "      display:flex;\n",
              "      flex-wrap:wrap;\n",
              "      gap: 12px;\n",
              "    }\n",
              "\n",
              "    .colab-df-convert {\n",
              "      background-color: #E8F0FE;\n",
              "      border: none;\n",
              "      border-radius: 50%;\n",
              "      cursor: pointer;\n",
              "      display: none;\n",
              "      fill: #1967D2;\n",
              "      height: 32px;\n",
              "      padding: 0 0 0 0;\n",
              "      width: 32px;\n",
              "    }\n",
              "\n",
              "    .colab-df-convert:hover {\n",
              "      background-color: #E2EBFA;\n",
              "      box-shadow: 0px 1px 2px rgba(60, 64, 67, 0.3), 0px 1px 3px 1px rgba(60, 64, 67, 0.15);\n",
              "      fill: #174EA6;\n",
              "    }\n",
              "\n",
              "    [theme=dark] .colab-df-convert {\n",
              "      background-color: #3B4455;\n",
              "      fill: #D2E3FC;\n",
              "    }\n",
              "\n",
              "    [theme=dark] .colab-df-convert:hover {\n",
              "      background-color: #434B5C;\n",
              "      box-shadow: 0px 1px 3px 1px rgba(0, 0, 0, 0.15);\n",
              "      filter: drop-shadow(0px 1px 2px rgba(0, 0, 0, 0.3));\n",
              "      fill: #FFFFFF;\n",
              "    }\n",
              "  </style>\n",
              "\n",
              "      <script>\n",
              "        const buttonEl =\n",
              "          document.querySelector('#df-dba83a6f-52de-490b-8f15-883b21652bf5 button.colab-df-convert');\n",
              "        buttonEl.style.display =\n",
              "          google.colab.kernel.accessAllowed ? 'block' : 'none';\n",
              "\n",
              "        async function convertToInteractive(key) {\n",
              "          const element = document.querySelector('#df-dba83a6f-52de-490b-8f15-883b21652bf5');\n",
              "          const dataTable =\n",
              "            await google.colab.kernel.invokeFunction('convertToInteractive',\n",
              "                                                     [key], {});\n",
              "          if (!dataTable) return;\n",
              "\n",
              "          const docLinkHtml = 'Like what you see? Visit the ' +\n",
              "            '<a target=\"_blank\" href=https://colab.research.google.com/notebooks/data_table.ipynb>data table notebook</a>'\n",
              "            + ' to learn more about interactive tables.';\n",
              "          element.innerHTML = '';\n",
              "          dataTable['output_type'] = 'display_data';\n",
              "          await google.colab.output.renderOutput(dataTable, element);\n",
              "          const docLink = document.createElement('div');\n",
              "          docLink.innerHTML = docLinkHtml;\n",
              "          element.appendChild(docLink);\n",
              "        }\n",
              "      </script>\n",
              "    </div>\n",
              "  </div>\n",
              "  "
            ]
          },
          "metadata": {},
          "execution_count": 5
        }
      ]
    },
    {
      "cell_type": "markdown",
      "metadata": {
        "id": "pU8UI1_XxbIP"
      },
      "source": [
        "As usual, we split the data into training and test parts."
      ]
    },
    {
      "cell_type": "code",
      "metadata": {
        "id": "h4JRGbewxbIf"
      },
      "source": [
        "from sklearn.model_selection import train_test_split\n",
        "\n",
        "X_train, X_test, y_train, y_test = train_test_split(X, y, test_size=0.3, random_state=42)"
      ],
      "execution_count": null,
      "outputs": []
    },
    {
      "cell_type": "code",
      "metadata": {
        "id": "ypZnVEmMxbIi",
        "outputId": "d9f4df53-2ab8-483b-8d9d-0948e1d2e894",
        "colab": {
          "base_uri": "https://localhost:8080/"
        }
      },
      "source": [
        "log_reg.fit(X_train, y_train)"
      ],
      "execution_count": null,
      "outputs": [
        {
          "output_type": "execute_result",
          "data": {
            "text/plain": [
              "LogisticRegression(max_iter=1000)"
            ]
          },
          "metadata": {},
          "execution_count": 7
        }
      ]
    },
    {
      "cell_type": "code",
      "metadata": {
        "id": "21xVQsXyxbIu",
        "outputId": "ee07ab9e-43a0-4d9d-e36d-c70de5baae45",
        "colab": {
          "base_uri": "https://localhost:8080/"
        }
      },
      "source": [
        "y_pred = log_reg.predict(X_test)\n",
        "y_pred"
      ],
      "execution_count": null,
      "outputs": [
        {
          "output_type": "execute_result",
          "data": {
            "text/plain": [
              "array([0, 1, 0, ..., 0, 0, 0])"
            ]
          },
          "metadata": {},
          "execution_count": 8
        }
      ]
    },
    {
      "cell_type": "markdown",
      "metadata": {
        "id": "Ls3SJzP6xbIw"
      },
      "source": [
        "But unlike regression classification models often also have the ability to predict the probability of belonging to a class:"
      ]
    },
    {
      "cell_type": "code",
      "metadata": {
        "id": "8twXYM3MxbIw",
        "outputId": "2d895f77-4b2a-403a-a1d8-441e7aae2b95",
        "colab": {
          "base_uri": "https://localhost:8080/"
        }
      },
      "source": [
        "y_pred_proba = log_reg.predict_proba(X_test)\n",
        "y_pred_proba"
      ],
      "execution_count": null,
      "outputs": [
        {
          "output_type": "execute_result",
          "data": {
            "text/plain": [
              "array([[0.99360291, 0.00639709],\n",
              "       [0.24067499, 0.75932501],\n",
              "       [0.98212309, 0.01787691],\n",
              "       ...,\n",
              "       [0.99724715, 0.00275285],\n",
              "       [0.99432175, 0.00567825],\n",
              "       [0.98104474, 0.01895526]])"
            ]
          },
          "metadata": {},
          "execution_count": 9
        }
      ]
    },
    {
      "cell_type": "markdown",
      "metadata": {
        "id": "r3ILS_ENxbIy"
      },
      "source": [
        "# 3. Comparison with KNN"
      ]
    },
    {
      "cell_type": "markdown",
      "metadata": {
        "id": "pq_b5RboxbIy"
      },
      "source": [
        "How do I know if the result was good? The simplest thing is to do it as in regression, compare the metric used on our model and on some other one. Let's take three models:\n",
        "\n",
        "1) Predict all 0s (a star is almost always not a pulsar anyway)\n",
        "\n",
        "2) Log regression\n",
        "\n",
        "3) KNN"
      ]
    },
    {
      "cell_type": "code",
      "metadata": {
        "id": "1ocK5EUWxbIy",
        "outputId": "e1fe9fd4-8212-4a10-c342-273245bdcf52",
        "colab": {
          "base_uri": "https://localhost:8080/"
        }
      },
      "source": [
        "from collections import Counter\n",
        "Counter(y_train)"
      ],
      "execution_count": null,
      "outputs": [
        {
          "output_type": "execute_result",
          "data": {
            "text/plain": [
              "Counter({0: 11375, 1: 1153})"
            ]
          },
          "metadata": {},
          "execution_count": 6
        }
      ]
    },
    {
      "cell_type": "markdown",
      "metadata": {
        "id": "RIrkeQjQxbI0"
      },
      "source": [
        "It turns out that a star is 10 times more likely to be a non-pulsar than a pulsar (at least in our dataset)."
      ]
    },
    {
      "cell_type": "code",
      "metadata": {
        "id": "yFKzbuZlxbI1",
        "outputId": "fbddaef9-e407-45e6-fdf8-36b0fad8e04a",
        "colab": {
          "base_uri": "https://localhost:8080/"
        }
      },
      "source": [
        "import numpy as np\n",
        "y_pred_const = np.zeros(len(X_test)) \n",
        "y_pred_proba_const = y_pred_const\n",
        "y_pred_proba_const"
      ],
      "execution_count": null,
      "outputs": [
        {
          "output_type": "execute_result",
          "data": {
            "text/plain": [
              "array([0., 0., 0., ..., 0., 0., 0.])"
            ]
          },
          "metadata": {},
          "execution_count": 7
        }
      ]
    },
    {
      "cell_type": "markdown",
      "metadata": {
        "id": "HqTbE47vuPyZ"
      },
      "source": [
        ""
      ]
    },
    {
      "cell_type": "code",
      "metadata": {
        "id": "geKh_weXxbI2",
        "outputId": "7686b87b-35dd-41aa-f743-df5108e62a4e",
        "colab": {
          "base_uri": "https://localhost:8080/"
        }
      },
      "source": [
        "y_pred_log_reg = log_reg.predict(X_test)\n",
        "y_pred_proba_log_reg = log_reg.predict_proba(X_test)[:, 1]  # оставили только второй столбец\n",
        "y_pred_proba_log_reg"
      ],
      "execution_count": null,
      "outputs": [
        {
          "output_type": "execute_result",
          "data": {
            "text/plain": [
              "array([0.00639709, 0.75932501, 0.01787691, ..., 0.00275285, 0.00567825,\n",
              "       0.01895526])"
            ]
          },
          "metadata": {},
          "execution_count": 12
        }
      ]
    },
    {
      "cell_type": "markdown",
      "metadata": {
        "id": "IG_E_i1vxbI4"
      },
      "source": [
        "It remains to train the KNN model.\n",
        "\n",
        "**The K Nearest Neighbors methodw** consists in treating each object as a point in an $n$ - dimensional space, where $n$ is the number of features. Then to predict the class of any new point, we just need to find $K$ objects closest to it in the training part and choose the most popular class among them.\n",
        "\n",
        "Naturally, this model is also already written in sklearn."
      ]
    },
    {
      "cell_type": "code",
      "metadata": {
        "id": "ZTfrVeRQxbI4",
        "outputId": "4faae621-a38a-4f0a-d704-8dafed038641",
        "colab": {
          "base_uri": "https://localhost:8080/"
        }
      },
      "source": [
        "from sklearn.neighbors import KNeighborsClassifier\n",
        "knn = KNeighborsClassifier(n_neighbors=5) # let's choose K=5\n",
        "knn.fit(X_train, y_train)"
      ],
      "execution_count": null,
      "outputs": [
        {
          "output_type": "execute_result",
          "data": {
            "text/plain": [
              "KNeighborsClassifier()"
            ]
          },
          "metadata": {},
          "execution_count": 9
        }
      ]
    },
    {
      "cell_type": "code",
      "metadata": {
        "id": "XPjdujWzxbI5",
        "outputId": "fed8e7cf-6f80-47a4-c0cc-a0a218ba0474",
        "colab": {
          "base_uri": "https://localhost:8080/"
        }
      },
      "source": [
        "y_pred_knn = knn.predict(X_test)\n",
        "y_pred_proba_knn = knn.predict_proba(X_test)[:, 1]  # only second column\n",
        "y_pred_proba_knn[:10]"
      ],
      "execution_count": null,
      "outputs": [
        {
          "output_type": "execute_result",
          "data": {
            "text/plain": [
              "array([0. , 0. , 0. , 0.2, 0. , 0. , 0. , 0. , 0. , 0. ])"
            ]
          },
          "metadata": {},
          "execution_count": 10
        }
      ]
    },
    {
      "cell_type": "markdown",
      "metadata": {
        "id": "1AyY7agVxbI7"
      },
      "source": [
        "This algorithm is not designed to predict the probability of belonging to a class, and it does so very naively and crudely: if exactly $T$ belong to class 1 among $K$ neighbors, then the probability of belonging to class 1 is $\\frac{T}{K}$."
      ]
    },
    {
      "cell_type": "markdown",
      "metadata": {
        "id": "qLopkToSxbI7"
      },
      "source": [
        "Now it remains to compare our predicted results. For example, since we learned log. regression on logloss, let's compare it (remember, for regression, we compared MSE).\n",
        "\n",
        "**Task**: implement logloss.\n",
        "$$Logloss = -\\sum_{x \\in 1} \\ln(p_x)  - \\sum_{x \\in 0} \\ln(1-p_x)$$"
      ]
    },
    {
      "cell_type": "code",
      "metadata": {
        "id": "njSEgmdGxbI8"
      },
      "source": [
        "\n",
        "def logloss(y_true, y_pred):\n",
        "  pass\n"
      ],
      "execution_count": null,
      "outputs": []
    },
    {
      "cell_type": "code",
      "metadata": {
        "id": "r7lj9uArh46d",
        "outputId": "3c14f2d8-0159-46ee-f527-085f83722897",
        "colab": {
          "base_uri": "https://localhost:8080/"
        }
      },
      "source": [
        "from sklearn.metrics import log_loss\n",
        "import numpy as np\n",
        "log_loss(np.array([0, 1, 0, 1, 0]), np.array([0.2, 0.8, 0.4, 0.6, 0.6]), normalize=False)"
      ],
      "execution_count": null,
      "outputs": [
        {
          "output_type": "execute_result",
          "data": {
            "text/plain": [
              "2.384229082034556"
            ]
          },
          "metadata": {},
          "execution_count": 16
        }
      ]
    },
    {
      "cell_type": "code",
      "metadata": {
        "id": "TzRPcCkYxbI9",
        "outputId": "633720f9-12ca-463e-aba7-f234b55a8336",
        "colab": {
          "base_uri": "https://localhost:8080/"
        }
      },
      "source": [
        "# Test:\n",
        "print('Logloss =', logloss(np.array([0, 1, 0, 1, 0]), np.array([0.2, 0.8, 0.4, 0.6, 0.6])))\n",
        "print('Real answer =', -(np.log(0.8) + np.log(0.8) + np.log(0.6) + np.log(0.6) + np.log(0.4)))"
      ],
      "execution_count": null,
      "outputs": [
        {
          "output_type": "stream",
          "name": "stdout",
          "text": [
            "Logloss = 2.384229082034556\n",
            "Real answer = 2.384229082034556\n"
          ]
        }
      ]
    },
    {
      "cell_type": "markdown",
      "metadata": {
        "id": "V6Y6Ot84xbI_"
      },
      "source": [
        "Let's see what the log loss is on different models."
      ]
    },
    {
      "cell_type": "code",
      "metadata": {
        "id": "NaLsWV2OxbJA",
        "outputId": "8b4d2ce1-67f8-476f-f780-6db39fe008b1",
        "colab": {
          "base_uri": "https://localhost:8080/"
        }
      },
      "source": [
        "logloss(y_test, y_pred_proba_const)"
      ],
      "execution_count": null,
      "outputs": [
        {
          "output_type": "stream",
          "name": "stderr",
          "text": [
            "/usr/local/lib/python3.7/dist-packages/ipykernel_launcher.py:4: RuntimeWarning: divide by zero encountered in log\n",
            "  after removing the cwd from sys.path.\n"
          ]
        },
        {
          "output_type": "execute_result",
          "data": {
            "text/plain": [
              "inf"
            ]
          },
          "metadata": {},
          "execution_count": 24
        }
      ]
    },
    {
      "cell_type": "markdown",
      "metadata": {
        "id": "VFu3bS_pxbJB"
      },
      "source": [
        "Our 'all probabilities are 0' model does not work: if we have guessed all classes, then we really get a logloss of 0. But if we make a mistake at least once, we will get the minus logarithm of 0, that is, infinity. You can never predict the probability in logloss as directly 0."
      ]
    },
    {
      "cell_type": "code",
      "metadata": {
        "id": "EjgWJVUxxbJB",
        "outputId": "37ac6663-38d5-4f6c-9278-6ec9309334db",
        "colab": {
          "base_uri": "https://localhost:8080/"
        }
      },
      "source": [
        "logloss(y_test, y_pred_proba_log_reg)"
      ],
      "execution_count": null,
      "outputs": [
        {
          "output_type": "execute_result",
          "data": {
            "text/plain": [
              "407.5589920357918"
            ]
          },
          "metadata": {},
          "execution_count": 25
        }
      ]
    },
    {
      "cell_type": "code",
      "metadata": {
        "id": "5eJEODXMxbJD",
        "outputId": "04007d63-04be-49bf-bd22-381bea0f3b17",
        "colab": {
          "base_uri": "https://localhost:8080/"
        }
      },
      "source": [
        "logloss(y_test, y_pred_proba_knn)"
      ],
      "execution_count": null,
      "outputs": [
        {
          "output_type": "stream",
          "name": "stderr",
          "text": [
            "/usr/local/lib/python3.7/dist-packages/ipykernel_launcher.py:4: RuntimeWarning: divide by zero encountered in log\n",
            "  after removing the cwd from sys.path.\n"
          ]
        },
        {
          "output_type": "execute_result",
          "data": {
            "text/plain": [
              "inf"
            ]
          },
          "metadata": {},
          "execution_count": 26
        }
      ]
    },
    {
      "cell_type": "markdown",
      "metadata": {
        "id": "mOu6uRsPxbJN"
      },
      "source": [
        "KNN has the same problem: too many probabilities equal to 0.\n"
      ]
    },
    {
      "cell_type": "markdown",
      "metadata": {
        "id": "J-fLpHozxbJO"
      },
      "source": [
        "As we can see, Logloss is so-so suitable for comparing classification results - naive models often have infinities there, and the number itself does not mean anything specific. In MSE, we at least roughly understood what the mean square of deviations is, but here it is an absolutely meaningless number."
      ]
    },
    {
      "cell_type": "markdown",
      "metadata": {
        "id": "QnFHKqcGxbJO"
      },
      "source": [
        "Let's better calculate **accuracy** - accuracy. That is, simply the **proportion of objects with a correctly predicted class**.\n",
        "\n",
        "(in general, calling it 'accuracy' is a bad idea, because the other metric that we will consider today (precision) into Russian has exactly the same translation)\n",
        "\n",
        "**Required task 2:** implement the accuracy function."
      ]
    },
    {
      "cell_type": "code",
      "metadata": {
        "id": "toSJGbQYxbJO"
      },
      "source": [
        "# Implement accuracy function\n",
        "\n",
        "def accuracy(y_real, y_pred):\n",
        "  \n",
        "  \n",
        "  # hint :-)\n",
        "  # return np.sum(y_real == y_pred) / y_real.size\n"
      ],
      "execution_count": null,
      "outputs": []
    },
    {
      "cell_type": "code",
      "metadata": {
        "id": "uaTRKI3TxbJP",
        "outputId": "b370b7c1-380d-4412-d572-0b86135789ab",
        "colab": {
          "base_uri": "https://localhost:8080/"
        }
      },
      "source": [
        "# Test:\n",
        "print('Accuracy =', accuracy(np.array([0, 1, 0, 1, 0]), np.array([0, 0, 0, 1, 1])))\n",
        "print('Real answer =', 0.6)"
      ],
      "execution_count": null,
      "outputs": [
        {
          "output_type": "stream",
          "name": "stdout",
          "text": [
            "Accuracy = 0.6\n",
            "Real answer = 0.6\n"
          ]
        }
      ]
    },
    {
      "cell_type": "markdown",
      "metadata": {
        "id": "fC60-8AqxbJR"
      },
      "source": [
        "Let's see what accuracy is on different models."
      ]
    },
    {
      "cell_type": "code",
      "metadata": {
        "id": "EYysWhQqxbJR",
        "outputId": "e45cba67-9829-440b-9c52-1904fa07519a",
        "colab": {
          "base_uri": "https://localhost:8080/"
        }
      },
      "source": [
        "accuracy(y_test, y_pred_const)"
      ],
      "execution_count": null,
      "outputs": [
        {
          "output_type": "execute_result",
          "data": {
            "text/plain": [
              "0.9094972067039107"
            ]
          },
          "metadata": {},
          "execution_count": 31
        }
      ]
    },
    {
      "cell_type": "code",
      "metadata": {
        "id": "cfWqer15xbJS",
        "outputId": "856a02c8-6beb-4671-8c1e-61a65269633e",
        "colab": {
          "base_uri": "https://localhost:8080/"
        }
      },
      "source": [
        "accuracy(y_test, y_pred_log_reg)"
      ],
      "execution_count": null,
      "outputs": [
        {
          "output_type": "execute_result",
          "data": {
            "text/plain": [
              "0.9782122905027933"
            ]
          },
          "metadata": {},
          "execution_count": 32
        }
      ]
    },
    {
      "cell_type": "code",
      "metadata": {
        "id": "1oDGdpGSxbJT",
        "outputId": "a1c9fca6-7bb0-4ffa-c186-5a3980884291",
        "colab": {
          "base_uri": "https://localhost:8080/"
        }
      },
      "source": [
        "accuracy(y_test, y_pred_knn)"
      ],
      "execution_count": null,
      "outputs": [
        {
          "output_type": "execute_result",
          "data": {
            "text/plain": [
              "0.9733705772811918"
            ]
          },
          "metadata": {},
          "execution_count": 33
        }
      ]
    },
    {
      "cell_type": "markdown",
      "metadata": {
        "id": "gowRrVNgxbJV"
      },
      "source": [
        "So, we clearly see that the accuracy of constant prediction (all stars are not pulsars) is already 90%. Indeed, in the test part, only about the 10th star is also a pulsar.\n",
        "\n",
        "And accuracy and Logistic regression, and KNN is not much higher, it is just over 97%. On my particular split into train and test, it turned out that accuracy of log. regression is still better, but it is not yet clear whether this is an error and there is no particular difference, or there is still a significant advantage."
      ]
    },
    {
      "cell_type": "markdown",
      "metadata": {
        "id": "SNqW5OTNxbJV"
      },
      "source": [
        "A big problem is immediately visible here: due to the imbalance of classes (9 to 1), the accuracy of a naive prediction easily gains 90% right away. It is very difficult to compare models by the metric, which for all normal models is on a small interval $[0.9, 1.0]$. And imagine that there would be even fewer pulsars: one out of a hundred stars. And this happens very often in life - for example, in advertising, you need to understand whether the user will click on this banner, and there are very, very few of these clicks on the banner in the data, usually there is still no click. Therefore, the 'always no click' model will immediately gain 99% accuracy.\n",
        "\n",
        "For such wildly unbalanced data, some other, more telling metrics are needed."
      ]
    },
    {
      "cell_type": "markdown",
      "metadata": {
        "id": "q7p6K1vBxbJV"
      },
      "source": [
        "# 4. Precision / Recall\n",
        "\n",
        "To get around this problem, two other metrics are often considered: **precision** (precision) and **recall** (recall). Suppose we still have a binary classification, and there are a lot of class 0, but less class 1.\n",
        "\n",
        "Presicion is the proportion of objects of class 1 among all objects that our classifier assigned to class 1.\n",
        "\n",
        "Recall is the proportion of objects of class 1 that our classifier determined correctly among all objects of class 1:\n",
        "\n",
        "**Mandatory task 3:** implement these two functions."
      ]
    },
    {
      "cell_type": "code",
      "metadata": {
        "id": "XLhGWF-pxbJW"
      },
      "source": [
        "def precision(y_real, y_pred):\n",
        " \n",
        " # hint\n",
        " # return np.sum(((y_real == 1) == y_pred)) / (y_pred == 1).size\n",
        "\n",
        "def recall(y_real, y_pred):\n",
        "  \n",
        "  # hint\n",
        "  # return np.sum((y_real == y_pred) & (y_real == 1)) / (y_real == 1).size"
      ],
      "execution_count": null,
      "outputs": []
    },
    {
      "cell_type": "code",
      "source": [
        "from sklearn.metrics import precision_score, recall_score"
      ],
      "metadata": {
        "id": "froD2yIqHH5U"
      },
      "execution_count": null,
      "outputs": []
    },
    {
      "cell_type": "code",
      "metadata": {
        "id": "8EzGR_CbxbJX",
        "outputId": "cd123c0a-7403-4a6d-912e-fcc69f369343",
        "colab": {
          "base_uri": "https://localhost:8080/"
        }
      },
      "source": [
        "print(precision_score(y_test, y_pred_const))\n",
        "print(recall_score(y_test, y_pred_const))"
      ],
      "execution_count": null,
      "outputs": [
        {
          "output_type": "stream",
          "name": "stdout",
          "text": [
            "0.0\n",
            "0.0\n"
          ]
        },
        {
          "output_type": "stream",
          "name": "stderr",
          "text": [
            "/usr/local/lib/python3.7/dist-packages/sklearn/metrics/_classification.py:1318: UndefinedMetricWarning: Precision is ill-defined and being set to 0.0 due to no predicted samples. Use `zero_division` parameter to control this behavior.\n",
            "  _warn_prf(average, modifier, msg_start, len(result))\n"
          ]
        }
      ]
    },
    {
      "cell_type": "code",
      "metadata": {
        "id": "pN-0bgWnxbJY",
        "outputId": "b96aa495-6b69-41f8-da9b-37f19bcae80c",
        "colab": {
          "base_uri": "https://localhost:8080/"
        }
      },
      "source": [
        "print(precision_score(y_test, y_pred_log_reg))\n",
        "print(recall_score(y_test, y_pred_log_reg))"
      ],
      "execution_count": null,
      "outputs": [
        {
          "output_type": "stream",
          "name": "stdout",
          "text": [
            "0.9424460431654677\n",
            "0.808641975308642\n"
          ]
        }
      ]
    },
    {
      "cell_type": "code",
      "metadata": {
        "id": "oP723AJCxbJZ",
        "outputId": "cef56cc0-d38d-400e-b4dc-5f733b6ac6cd",
        "colab": {
          "base_uri": "https://localhost:8080/"
        }
      },
      "source": [
        "print(precision_score(y_test, y_pred_knn))\n",
        "print(recall_score(y_test, y_pred_knn))"
      ],
      "execution_count": null,
      "outputs": [
        {
          "output_type": "stream",
          "name": "stdout",
          "text": [
            "0.9054373522458629\n",
            "0.7880658436213992\n"
          ]
        }
      ]
    },
    {
      "cell_type": "markdown",
      "metadata": {
        "id": "eBpOtP4fxbJb"
      },
      "source": [
        "What results did we get?\n",
        "\n",
        "1) The 'always say 0' constant prediction gets nan precision (this is the proportion of pulsars among the predicted pulsars, and we decided not to predict any) and 0 recall (this is the proportion of pulsars that we found, but we did not find anything).\n",
        "\n",
        "2) Among those predicted by KNN and Log. pulsar regressions 90%-94% of stars are indeed pulsars.\n",
        "\n",
        "3) But among all pulsars, our models found only 78% -80% of pulsars.\n",
        "\n",
        "4) In general, it turns out that the models predict pulsars rather accurately, but they still do not find much (precision is greater than recall)."
      ]
    },
    {
      "cell_type": "markdown",
      "metadata": {
        "id": "pAbeKrO3xbJb"
      },
      "source": [
        "Often, in order to take into account the imbalance of our set, we can set different weights for different classes.\n",
        "For example, Log. Regression is a parameter class_weight that takes a dictionary that maps each class to its weight.\n",
        "\n",
        "In this case, the weight participates in the Logloss - each term with the real class 1 is simply multiplied by the weight of class 1, and the term with the real class 0 is simply multiplied by the weight of class 0.\n",
        "\n",
        "Essentially, these weights mean how much more important it is to predict class 0 or class 1 well.\n",
        "\n",
        "$$Logloss = -w_1 \\sum_{x \\in 1} \\ln(p_x)  -w_0 \\sum_{x \\in 0} \\ln(1-p_x)$$\n",
        "\n",
        "In the original data, almost all the stars were not pulsars (class 0), and their quality of prediction was much more important, let's balance the weights (so half the weight will come from ordinary stars and half the weight from pulsars)."
      ]
    },
    {
      "cell_type": "code",
      "metadata": {
        "id": "ij8dY0l5xbJb"
      },
      "source": [
        "log_reg_w = LogisticRegression(class_weight={0: 1, 1: 10},  max_iter=1000)"
      ],
      "execution_count": null,
      "outputs": []
    },
    {
      "cell_type": "code",
      "metadata": {
        "id": "yX-W2X8uxbJc",
        "outputId": "7df14532-1b2b-4bb4-80fd-5f092ec7c81e",
        "colab": {
          "base_uri": "https://localhost:8080/"
        }
      },
      "source": [
        "log_reg_w.fit(X_train, y_train)"
      ],
      "execution_count": null,
      "outputs": [
        {
          "output_type": "execute_result",
          "data": {
            "text/plain": [
              "LogisticRegression(class_weight={0: 1, 1: 10}, max_iter=1000)"
            ]
          },
          "metadata": {},
          "execution_count": 12
        }
      ]
    },
    {
      "cell_type": "code",
      "metadata": {
        "id": "4X-pvcGjxbJe"
      },
      "source": [
        "y_pred_w = log_reg_w.predict(X_test)\n",
        "y_pred_proba_w = log_reg_w.predict_proba(X_test)[:, 1]"
      ],
      "execution_count": null,
      "outputs": []
    },
    {
      "cell_type": "code",
      "metadata": {
        "id": "SeaPaz9kxbJf",
        "outputId": "b5c2deb3-9996-459b-84f6-977ebea60bfb",
        "colab": {
          "base_uri": "https://localhost:8080/"
        }
      },
      "source": [
        "print(precision_score(y_test, y_pred_w))\n",
        "print(recall_score(y_test, y_pred_w))"
      ],
      "execution_count": null,
      "outputs": [
        {
          "output_type": "stream",
          "name": "stdout",
          "text": [
            "0.7735191637630662\n",
            "0.9135802469135802\n"
          ]
        }
      ]
    },
    {
      "cell_type": "markdown",
      "metadata": {
        "id": "e9kD2f8XxbJg"
      },
      "source": [
        "The precision of the classifier has noticeably decreased - it began to say '1' more often (since it is now not so terrible to make a mistake with a nepulsar), but the completeness has increased markedly. Whether that's good or bad depends on how we're going to use our classifier.\n",
        "\n",
        "If it is very important for us not to miss a single pulsar (and if we also call a star a pulsar by mistake, then it is not very scary), we need to grow recall - this is possible, for example, if later the selected stars are looked at in the radio telescope and the prediction is refined.\n",
        "\n",
        "Or maybe it's important for us not to call a pulsar a star that is not a pulsar (for example, we will send an expensive research probe to all potential pulsars - it is not terrible to miss some, but it is very disappointing to send a probe to a non-pulsar).\n"
      ]
    },
    {
      "cell_type": "markdown",
      "metadata": {
        "id": "DIm7MY_rxbJg"
      },
      "source": [
        "For completeness, we introduce two more definitions:\n",
        "- Type I error (false positive) - the situation when our model assigned a class 0 object to class 1\n",
        "- Type II error (false negative) - a situation where our model has assigned a class 1 object to class 0\n",
        "\n",
        "Similarly, correct predictions can be divided into true positives and true negatives\n",
        "\n",
        "![Sensitivity_and_specificity.svg.png](data:image/png;base64,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)\n",
        "How to remember what a error is what: in the fairy tale about the boy who shouted 'Wolf!' first describes the mistake of the first kind, and then - the second.\n",
        "\n",
        "![Ошибки](errors.jpg)"
      ]
    },
    {
      "cell_type": "markdown",
      "metadata": {
        "id": "nPuQT-8nxbJh"
      },
      "source": [
        "**Task 5:** Plot the precision dependency and recall on the weight ratio in the logistic regression.\n",
        "\n",
        "Let the weight of class 0 always be equal to 1, sort out what is the weight of class 1."
      ]
    },
    {
      "cell_type": "code",
      "metadata": {
        "id": "8XGYGLZJxbJh",
        "colab": {
          "base_uri": "https://localhost:8080/",
          "height": 497
        },
        "outputId": "2b5b0f8c-1758-4de0-e5e4-883f98fccc2d"
      },
      "source": [
        "import matplotlib.pyplot as plt\n",
        "\n",
        "precision_results = []\n",
        "recall_results = []\n",
        "\n",
        "for first_weight in range(1, 11):\n",
        "  log_reg = LogisticRegression(class_weight={0: 1, 1: first_weight}, max_iter=1000)\n",
        "  log_reg.fit(X_train, y_train)\n",
        "\n",
        "  y_pred = log_reg.predict(X_test)\n",
        "\n",
        "  precision_results.append(precision_score(y_test, y_pred))\n",
        "  recall_results.append(recall_score(y_test, y_pred))\n",
        "\n",
        "plt.plot(precision_results)\n",
        "plt.plot(recall_results)\n",
        "\n",
        "plt.legend(['precision', 'recall'])\n",
        "\n",
        "plt.show()"
      ],
      "execution_count": null,
      "outputs": [
        {
          "output_type": "error",
          "ename": "AttributeError",
          "evalue": "ignored",
          "traceback": [
            "\u001b[0;31m---------------------------------------------------------------------------\u001b[0m",
            "\u001b[0;31mAttributeError\u001b[0m                            Traceback (most recent call last)",
            "\u001b[0;32m<ipython-input-21-80b8fd738dbc>\u001b[0m in \u001b[0;36m<module>\u001b[0;34m()\u001b[0m\n\u001b[1;32m     16\u001b[0m \u001b[0mplt\u001b[0m\u001b[0;34m.\u001b[0m\u001b[0mplot\u001b[0m\u001b[0;34m(\u001b[0m\u001b[0mrecall_results\u001b[0m\u001b[0;34m)\u001b[0m\u001b[0;34m\u001b[0m\u001b[0;34m\u001b[0m\u001b[0m\n\u001b[1;32m     17\u001b[0m \u001b[0;34m\u001b[0m\u001b[0m\n\u001b[0;32m---> 18\u001b[0;31m \u001b[0mplt\u001b[0m\u001b[0;34m.\u001b[0m\u001b[0mligend\u001b[0m\u001b[0;34m(\u001b[0m\u001b[0;34m[\u001b[0m\u001b[0;34m'precision'\u001b[0m\u001b[0;34m,\u001b[0m \u001b[0;34m'recall'\u001b[0m\u001b[0;34m]\u001b[0m\u001b[0;34m)\u001b[0m\u001b[0;34m\u001b[0m\u001b[0;34m\u001b[0m\u001b[0m\n\u001b[0m\u001b[1;32m     19\u001b[0m \u001b[0;34m\u001b[0m\u001b[0m\n\u001b[1;32m     20\u001b[0m \u001b[0mplt\u001b[0m\u001b[0;34m.\u001b[0m\u001b[0mshow\u001b[0m\u001b[0;34m(\u001b[0m\u001b[0;34m)\u001b[0m\u001b[0;34m\u001b[0m\u001b[0;34m\u001b[0m\u001b[0m\n",
            "\u001b[0;31mAttributeError\u001b[0m: module 'matplotlib.pyplot' has no attribute 'ligend'"
          ]
        },
        {
          "output_type": "display_data",
          "data": {
            "text/plain": [
              "<Figure size 432x288 with 1 Axes>"
            ],
            "image/png": "[encoded data removed]"
          },
          "metadata": {
            "needs_background": "light"
          }
        }
      ]
    },
    {
      "cell_type": "markdown",
      "metadata": {
        "id": "NfY24M06xbJi"
      },
      "source": [
        "There is a metric that combines precision and completeness - their average harmonic. This metric is called $F_$1 measure:\n",
        "\n",
        "$$ F_1 = \\frac{2* precision*recall}{precision+recall}$$\n",
        "\n",
        "**Task 6:** add F_1 score to your plot."
      ]
    },
    {
      "cell_type": "code",
      "metadata": {
        "id": "aCIzWvizxbJi",
        "colab": {
          "base_uri": "https://localhost:8080/",
          "height": 305
        },
        "outputId": "5984fb66-e792-4dfc-e2df-c0ff7f924db4"
      },
      "source": [
        "%%time\n",
        "from sklearn.metrics import f1_score\n",
        "\n",
        "precision_results = []\n",
        "recall_results = []\n",
        "f1_results = []\n",
        "\n",
        "for first_weight in range(1, 11):\n",
        "  log_reg = LogisticRegression(class_weight={0: 1, 1: first_weight}, max_iter=1000)\n",
        "  log_reg.fit(X_train, y_train)\n",
        "\n",
        "  y_pred = log_reg.predict(X_test)\n",
        "\n",
        "  precision_results.append(precision_score(y_test, y_pred))\n",
        "  recall_results.append(recall_score(y_test, y_pred))\n",
        "  f1_results.append(f1_score(y_test, y_pred))\n",
        "\n",
        "plt.plot(precision_results)\n",
        "plt.plot(recall_results)\n",
        "plt.plot(f1_results)\n",
        "\n",
        "plt.legend(['precision', 'recall', 'F1'])\n",
        "\n",
        "plt.show()"
      ],
      "execution_count": null,
      "outputs": [
        {
          "output_type": "display_data",
          "data": {
            "text/plain": [
              "<Figure size 432x288 with 1 Axes>"
            ],
            "image/png": "[encoded data removed]"
          },
          "metadata": {
            "needs_background": "light"
          }
        },
        {
          "output_type": "stream",
          "name": "stdout",
          "text": [
            "CPU times: user 6.09 s, sys: 5.2 s, total: 11.3 s\n",
            "Wall time: 7.1 s\n"
          ]
        }
      ]
    },
    {
      "cell_type": "markdown",
      "metadata": {
        "id": "SWFiq73VxbJj"
      },
      "source": [
        "# 5. ROC-AUC\n",
        "\n",
        "Let's continue to study binary classification metrics. Let's imagine that we predicted pulsars - but we need to study them in some order. In decreasing order of probability, they are pulsars.\n",
        "\n",
        "We need to somehow teach how well we predicted probabilities in terms of order**."
      ]
    },
    {
      "cell_type": "markdown",
      "metadata": {
        "id": "SvNdptAXxbJk"
      },
      "source": [
        "Let's sort out all the stars by the probability that they are pulsars. If we were to perfectly predict pulsars, then first in this list there are exclusively non-pulsars, and then only pulsars.\n",
        "\n",
        "In reality, of course, there will be mistakes."
      ]
    },
    {
      "cell_type": "code",
      "metadata": {
        "id": "nzpuJzzpxbJk",
        "colab": {
          "base_uri": "https://localhost:8080/"
        },
        "outputId": "2b2a2a93-ecac-4370-f294-d2271c18ab5c"
      },
      "source": [
        "model = LogisticRegression(max_iter=1000)\n",
        "model.fit(X_train, y_train)\n",
        "y_pred_proba = model.predict_proba(X_test)[:, 1]\n",
        "y_pred_proba"
      ],
      "execution_count": null,
      "outputs": [
        {
          "output_type": "execute_result",
          "data": {
            "text/plain": [
              "array([0.00639709, 0.75932501, 0.01787691, ..., 0.00275285, 0.00567825,\n",
              "       0.01895526])"
            ]
          },
          "metadata": {},
          "execution_count": 26
        }
      ]
    },
    {
      "cell_type": "code",
      "metadata": {
        "id": "o7PBcSwrxbJm",
        "colab": {
          "base_uri": "https://localhost:8080/"
        },
        "outputId": "10db1db2-9a9f-48e1-ce5f-74e8bde3df96"
      },
      "source": [
        "list(zip(X_test.index, y_pred_proba))[:5]"
      ],
      "execution_count": null,
      "outputs": [
        {
          "output_type": "execute_result",
          "data": {
            "text/plain": [
              "[(15985, 0.006397089361478767),\n",
              " (8188, 0.7593250080915254),\n",
              " (8157, 0.017876910446350775),\n",
              " (2589, 0.49044181416942734),\n",
              " (11909, 0.013926889908886148)]"
            ]
          },
          "metadata": {},
          "execution_count": 27
        }
      ]
    },
    {
      "cell_type": "code",
      "metadata": {
        "id": "lvqwx--IxbJn",
        "colab": {
          "base_uri": "https://localhost:8080/"
        },
        "outputId": "cf53b0a4-7894-498d-cf67-68a4c741514a"
      },
      "source": [
        "sorted_by_proba = sorted(list(zip(X_test.index, y_pred_proba)), key=lambda x: x[1])\n",
        "sorted_by_proba[-5:]"
      ],
      "execution_count": null,
      "outputs": [
        {
          "output_type": "execute_result",
          "data": {
            "text/plain": [
              "[(5478, 0.9999517238083173),\n",
              " (2037, 0.9999528297947264),\n",
              " (4572, 0.9999564749758151),\n",
              " (8193, 0.9999572541475287),\n",
              " (2626, 0.9999579581424218)]"
            ]
          },
          "metadata": {},
          "execution_count": 28
        }
      ]
    },
    {
      "cell_type": "code",
      "metadata": {
        "id": "fSG0VfW5xbJo",
        "colab": {
          "base_uri": "https://localhost:8080/"
        },
        "outputId": "9ba49c5a-a2b4-4cea-f805-449f11dd9923"
      },
      "source": [
        "results = [y_test[id] for id, proba in sorted_by_proba]\n",
        "print(results[:25])\n",
        "print(results[1000:1025])\n",
        "print(results[4800:4825])\n",
        "print(results[5000:5025])\n",
        "print(results[-25:])"
      ],
      "execution_count": null,
      "outputs": [
        {
          "output_type": "stream",
          "name": "stdout",
          "text": [
            "[0, 0, 0, 0, 0, 0, 0, 0, 0, 0, 0, 0, 0, 0, 0, 0, 0, 0, 0, 0, 0, 0, 0, 0, 0]\n",
            "[0, 0, 0, 0, 0, 0, 0, 0, 0, 0, 0, 0, 0, 0, 0, 0, 0, 0, 0, 0, 0, 0, 0, 0, 0]\n",
            "[0, 0, 0, 0, 0, 1, 0, 0, 0, 1, 0, 0, 0, 0, 0, 0, 0, 0, 1, 0, 1, 0, 0, 1, 0]\n",
            "[1, 1, 1, 1, 1, 1, 0, 0, 0, 1, 1, 1, 1, 1, 1, 1, 1, 1, 1, 0, 0, 1, 1, 1, 1]\n",
            "[1, 1, 1, 1, 1, 1, 1, 1, 1, 1, 1, 1, 1, 1, 1, 1, 1, 1, 1, 1, 1, 1, 1, 0, 1]\n"
          ]
        }
      ]
    },
    {
      "cell_type": "markdown",
      "metadata": {
        "id": "tDYU1yCUxbJp"
      },
      "source": [
        "So we sorted by the probability of belonging to class 1 - and indeed, first the objects of class 0 go for a long time, then at some point pulsars begin to appear, then there are more and more of them, and at the end they remain exclusively (well, for some reason except for the last one in my case).\n",
        "\n",
        "Data scientists love to draw an ROC curve."
      ]
    },
    {
      "cell_type": "code",
      "metadata": {
        "id": "Z0UZdVv4xbJp",
        "colab": {
          "base_uri": "https://localhost:8080/",
          "height": 458
        },
        "outputId": "92306bba-1b06-441e-a57d-ca8a8305e08d"
      },
      "source": [
        "from sklearn.metrics import roc_curve\n",
        "plt.figure(figsize=(7, 7))\n",
        "fpr, tpr, thresholds = roc_curve(y_test, y_pred_proba)\n",
        "plt.plot(fpr, tpr, 'b', linewidth=3)\n",
        "plt.plot([0, 1], [0, 1], 'k--')\n",
        "plt.plot([0, 0], [0, 1], 'k')\n",
        "plt.plot([1, 1], [0, 1], 'k')\n",
        "plt.plot([0, 1], [0, 0], 'k')\n",
        "plt.plot([0, 1], [1, 1], 'k')\n",
        "plt.xlabel('False positive rate')\n",
        "plt.ylabel('True positive rate')\n",
        "plt.xlim((0, 1))\n",
        "plt.ylim((0, 1))\n",
        "plt.axis('equal')\n",
        "plt.title('ROC curve')\n",
        "plt.show()"
      ],
      "execution_count": null,
      "outputs": [
        {
          "output_type": "display_data",
          "data": {
            "text/plain": [
              "<Figure size 504x504 with 1 Axes>"
            ],
            "image/png": "[encoded data removed]"
          },
          "metadata": {
            "needs_background": "light"
          }
        }
      ]
    },
    {
      "cell_type": "markdown",
      "metadata": {
        "id": "CsfGMj57xbJr"
      },
      "source": [
        "The ROC curve generally has two definitions.\n",
        "\n",
        "1) Here we have an array of objects sorted by probability. We need to decide where to cut it into two parts - we will predict all the left as class 0, and the right as class 1.\n",
        "\n",
        "For each possible cut, let's just count two metrics and draw a graph of one's dependence on the other:\n",
        "\n",
        "$$False\\space positive\\space rate = \\frac{FP}{FP + TN} = \\frac{FP}{size(0)}$$\n",
        "$$True\\space positive\\space rate = \\frac{TP}{TP + FN} = \\frac{TP}{size(1)}$$\n",
        "\n",
        "False positive rate is the proportion of predicted pulsars among real non-pulsars.\n",
        "\n",
        "True positive rate is the proportion of predicted pulsars among real pulsars.\n",
        "\n",
        "2) Our curve starts at the point $(0, 0)$ and ends at the point $(1, 1)$ (indeed, if we all consider non-pulsars, then FPR = 0, TPR = 0, otherwise FPR = 1, TPR = 1.\n",
        "\n",
        "Between them, she should take a few steps up and to the right. Let's just go from left to right through our list and every time we come across a class 0 object, take a step up on $\\frac{1}{size(0)}$, and when you meet a class 1 object, step right on $\\frac{1}{size(1)}$. Then we will eventually come from (0, 0) to (1, 1), and it will turn out exactly the same curve.\n",
        "\n",
        "Indeed, each time we actually just move one object from class 0 to class 1. If its real class is 0, then the TPR has not changed, and the FPR has increased by $\\frac{1}{size(0)}$. If its real class is 1, then FPR has not changed, and TPR has increased by $\\frac{1}{size(1)}$. So it's the same thing."
      ]
    },
    {
      "cell_type": "markdown",
      "metadata": {
        "id": "c2ONPA6IxbJr"
      },
      "source": [
        "A curve is fine, but we'd like a numerical metric that says how good the resulting order of probabilities is. For this, they usually take the area under this curve ** (Areas Under Curve - AUC), it is also called ROC-AUC.\n",
        "\n",
        "It's no bigger than 1, and the higher and to the left that curve, the better.\n",
        "\n",
        "Almost always, the ROC AUC is 0.5 (otherwise it is easy to fix - you just need to turn all the probabilities upside down).\n",
        "\n",
        "RoC AUC allows you to deeply evaluate the quality of the predicted probabilities. Accuracy, Precision, and Recall worked only with the class predictions themselves, and did not affect the probabilities in any way."
      ]
    },
    {
      "cell_type": "code",
      "metadata": {
        "id": "mCdNis2zxbJr",
        "colab": {
          "base_uri": "https://localhost:8080/"
        },
        "outputId": "db50d212-1fbb-4f18-9298-58bcde2003a5"
      },
      "source": [
        "from sklearn.metrics import roc_auc_score\n",
        "roc_auc_score(y_test, y_pred_proba)"
      ],
      "execution_count": null,
      "outputs": [
        {
          "output_type": "execute_result",
          "data": {
            "text/plain": [
              "0.9756161885791516"
            ]
          },
          "metadata": {},
          "execution_count": 31
        }
      ]
    },
    {
      "cell_type": "markdown",
      "metadata": {
        "id": "3cniGuycxbJs"
      },
      "source": [
        "# 6. Non-binary classification"
      ]
    },
    {
      "cell_type": "markdown",
      "metadata": {
        "id": "s9x1eT6fxbJs"
      },
      "source": [
        "All this time we have been considering only the problem of binary classification, but what to do when there are more classes than 2? In fact, there is an easy way to reduce any classification to binary.\n",
        "\n",
        "The technique is called **One vs The Rest**. Let's just consider each class as an independent binary classification, and predict the probabilities that this element lies in that class, or does not.\n",
        "\n",
        "So for each class, we get the probability of whether there is an object in it. From these, we will already be able to choose the best class for this object. And to get the probabilities of belonging to each class, these numbers still need to be normalized so that in total they give 1.\n",
        "\n",
        "Let's look at the dataset with the numbers, for example."
      ]
    },
    {
      "cell_type": "code",
      "metadata": {
        "id": "-Xly2ro4xbJs",
        "colab": {
          "base_uri": "https://localhost:8080/"
        },
        "outputId": "3916c28d-57a1-4f94-c329-61505930166e"
      },
      "source": [
        "from sklearn.datasets import load_digits\n",
        "data = load_digits()\n",
        "data.keys()"
      ],
      "execution_count": null,
      "outputs": [
        {
          "output_type": "execute_result",
          "data": {
            "text/plain": [
              "dict_keys(['data', 'target', 'frame', 'feature_names', 'target_names', 'images', 'DESCR'])"
            ]
          },
          "metadata": {},
          "execution_count": 32
        }
      ]
    },
    {
      "cell_type": "code",
      "metadata": {
        "id": "dQyHkjRnxbJt",
        "colab": {
          "base_uri": "https://localhost:8080/"
        },
        "outputId": "62161a45-d6da-4a9d-afd4-cdf0fb8c7630"
      },
      "source": [
        "print(data['DESCR'])"
      ],
      "execution_count": null,
      "outputs": [
        {
          "output_type": "stream",
          "name": "stdout",
          "text": [
            ".. _digits_dataset:\n",
            "\n",
            "Optical recognition of handwritten digits dataset\n",
            "--------------------------------------------------\n",
            "\n",
            "**Data Set Characteristics:**\n",
            "\n",
            "    :Number of Instances: 1797\n",
            "    :Number of Attributes: 64\n",
            "    :Attribute Information: 8x8 image of integer pixels in the range 0..16.\n",
            "    :Missing Attribute Values: None\n",
            "    :Creator: E. Alpaydin (alpaydin '@' boun.edu.tr)\n",
            "    :Date: July; 1998\n",
            "\n",
            "This is a copy of the test set of the UCI ML hand-written digits datasets\n",
            "https://archive.ics.uci.edu/ml/datasets/Optical+Recognition+of+Handwritten+Digits\n",
            "\n",
            "The data set contains images of hand-written digits: 10 classes where\n",
            "each class refers to a digit.\n",
            "\n",
            "Preprocessing programs made available by NIST were used to extract\n",
            "normalized bitmaps of handwritten digits from a preprinted form. From a\n",
            "total of 43 people, 30 contributed to the training set and different 13\n",
            "to the test set. 32x32 bitmaps are divided into nonoverlapping blocks of\n",
            "4x4 and the number of on pixels are counted in each block. This generates\n",
            "an input matrix of 8x8 where each element is an integer in the range\n",
            "0..16. This reduces dimensionality and gives invariance to small\n",
            "distortions.\n",
            "\n",
            "For info on NIST preprocessing routines, see M. D. Garris, J. L. Blue, G.\n",
            "T. Candela, D. L. Dimmick, J. Geist, P. J. Grother, S. A. Janet, and C.\n",
            "L. Wilson, NIST Form-Based Handprint Recognition System, NISTIR 5469,\n",
            "1994.\n",
            "\n",
            ".. topic:: References\n",
            "\n",
            "  - C. Kaynak (1995) Methods of Combining Multiple Classifiers and Their\n",
            "    Applications to Handwritten Digit Recognition, MSc Thesis, Institute of\n",
            "    Graduate Studies in Science and Engineering, Bogazici University.\n",
            "  - E. Alpaydin, C. Kaynak (1998) Cascading Classifiers, Kybernetika.\n",
            "  - Ken Tang and Ponnuthurai N. Suganthan and Xi Yao and A. Kai Qin.\n",
            "    Linear dimensionalityreduction using relevance weighted LDA. School of\n",
            "    Electrical and Electronic Engineering Nanyang Technological University.\n",
            "    2005.\n",
            "  - Claudio Gentile. A New Approximate Maximal Margin Classification\n",
            "    Algorithm. NIPS. 2000.\n",
            "\n"
          ]
        }
      ]
    },
    {
      "cell_type": "code",
      "metadata": {
        "id": "Y0CzgsVNxbJv",
        "colab": {
          "base_uri": "https://localhost:8080/"
        },
        "outputId": "7c049a39-4bf8-421b-e6c6-9d36a02f45ec"
      },
      "source": [
        "X = data['data']\n",
        "X[0]"
      ],
      "execution_count": null,
      "outputs": [
        {
          "output_type": "execute_result",
          "data": {
            "text/plain": [
              "array([ 0.,  0.,  5., 13.,  9.,  1.,  0.,  0.,  0.,  0., 13., 15., 10.,\n",
              "       15.,  5.,  0.,  0.,  3., 15.,  2.,  0., 11.,  8.,  0.,  0.,  4.,\n",
              "       12.,  0.,  0.,  8.,  8.,  0.,  0.,  5.,  8.,  0.,  0.,  9.,  8.,\n",
              "        0.,  0.,  4., 11.,  0.,  1., 12.,  7.,  0.,  0.,  2., 14.,  5.,\n",
              "       10., 12.,  0.,  0.,  0.,  0.,  6., 13., 10.,  0.,  0.,  0.])"
            ]
          },
          "metadata": {},
          "execution_count": 34
        }
      ]
    },
    {
      "cell_type": "markdown",
      "metadata": {
        "id": "I5KL-ICQxbJw"
      },
      "source": [
        "These features are actually the brightness of the pixels of this 8x8 picture. Each pixel is a number between 0 and 15."
      ]
    },
    {
      "cell_type": "code",
      "metadata": {
        "id": "wkKDoPIixbJw",
        "colab": {
          "base_uri": "https://localhost:8080/",
          "height": 265
        },
        "outputId": "e0e8f4b7-9dd3-41fa-8486-d9502919e327"
      },
      "source": [
        "def draw_digit(features):\n",
        "    plt.imshow(features.reshape(8, 8), cmap=plt.cm.gray, vmax=16, interpolation='nearest')\n",
        "\n",
        "draw_digit(X[0])"
      ],
      "execution_count": null,
      "outputs": [
        {
          "output_type": "display_data",
          "data": {
            "text/plain": [
              "<Figure size 432x288 with 1 Axes>"
            ],
            "image/png": "[encoded data removed]"
          },
          "metadata": {
            "needs_background": "light"
          }
        }
      ]
    },
    {
      "cell_type": "code",
      "metadata": {
        "id": "IWU8b0SqxbJy",
        "colab": {
          "base_uri": "https://localhost:8080/",
          "height": 265
        },
        "outputId": "c9cb92b6-bc68-4788-9a6c-73d324774a28"
      },
      "source": [
        "draw_digit(X[60])"
      ],
      "execution_count": null,
      "outputs": [
        {
          "output_type": "display_data",
          "data": {
            "text/plain": [
              "<Figure size 432x288 with 1 Axes>"
            ],
            "image/png": "[encoded data removed]"
          },
          "metadata": {
            "needs_background": "light"
          }
        }
      ]
    },
    {
      "cell_type": "code",
      "metadata": {
        "id": "dcbY6LY3xbJz",
        "colab": {
          "base_uri": "https://localhost:8080/"
        },
        "outputId": "ca97a08c-8560-4e20-f998-e5ac788eb33f"
      },
      "source": [
        "y = data['target']\n",
        "Counter(y)"
      ],
      "execution_count": null,
      "outputs": [
        {
          "output_type": "execute_result",
          "data": {
            "text/plain": [
              "Counter({0: 178,\n",
              "         1: 182,\n",
              "         2: 177,\n",
              "         3: 183,\n",
              "         4: 181,\n",
              "         5: 182,\n",
              "         6: 181,\n",
              "         7: 179,\n",
              "         8: 174,\n",
              "         9: 180})"
            ]
          },
          "metadata": {},
          "execution_count": 37
        }
      ]
    },
    {
      "cell_type": "code",
      "metadata": {
        "id": "FPQhc8JQxbJ1"
      },
      "source": [
        "X_train, X_test, y_train, y_test = train_test_split(X, y, test_size=0.2, random_state=42)"
      ],
      "execution_count": null,
      "outputs": []
    },
    {
      "cell_type": "markdown",
      "metadata": {
        "id": "b1KdMDO4xbJ2"
      },
      "source": [
        "In logistic regression, the One vs The Rest mod is already enabled by default and it works for several classes."
      ]
    },
    {
      "cell_type": "code",
      "metadata": {
        "id": "PQEHE5D_xbJ4",
        "colab": {
          "base_uri": "https://localhost:8080/"
        },
        "outputId": "96031186-98a1-4626-aee1-d1f906b38e1d"
      },
      "source": [
        "log_reg = LogisticRegression(max_iter=10000)\n",
        "log_reg.fit(X_train, y_train)"
      ],
      "execution_count": null,
      "outputs": [
        {
          "output_type": "execute_result",
          "data": {
            "text/plain": [
              "LogisticRegression(max_iter=10000)"
            ]
          },
          "metadata": {},
          "execution_count": 39
        }
      ]
    },
    {
      "cell_type": "code",
      "metadata": {
        "id": "BPk4K64mxbJ5",
        "colab": {
          "base_uri": "https://localhost:8080/"
        },
        "outputId": "0fd6d6e8-401b-44a9-e7ab-9f0c6cdd53ca"
      },
      "source": [
        "y_pred_log_reg = log_reg.predict(X_test)\n",
        "y_pred_log_reg"
      ],
      "execution_count": null,
      "outputs": [
        {
          "output_type": "execute_result",
          "data": {
            "text/plain": [
              "array([6, 9, 3, 7, 2, 1, 5, 2, 5, 2, 1, 9, 4, 0, 4, 2, 3, 7, 8, 8, 4, 3,\n",
              "       9, 7, 5, 6, 3, 5, 6, 3, 4, 9, 1, 4, 4, 6, 9, 4, 7, 6, 6, 9, 1, 3,\n",
              "       6, 1, 3, 0, 6, 5, 5, 1, 3, 5, 6, 0, 9, 0, 0, 1, 0, 4, 5, 2, 4, 5,\n",
              "       7, 0, 7, 5, 9, 5, 5, 4, 7, 0, 4, 5, 5, 9, 9, 0, 2, 3, 8, 0, 6, 4,\n",
              "       4, 9, 1, 2, 8, 3, 5, 2, 9, 0, 4, 4, 4, 3, 5, 3, 1, 3, 5, 9, 4, 2,\n",
              "       7, 7, 4, 4, 1, 9, 2, 7, 8, 7, 2, 6, 9, 4, 0, 7, 2, 7, 5, 8, 7, 5,\n",
              "       7, 5, 0, 6, 6, 4, 2, 8, 0, 9, 4, 6, 9, 9, 6, 9, 0, 5, 5, 6, 6, 0,\n",
              "       6, 4, 3, 9, 3, 8, 7, 2, 9, 0, 4, 5, 3, 6, 5, 9, 9, 8, 4, 2, 1, 3,\n",
              "       7, 7, 2, 2, 3, 9, 8, 0, 3, 2, 2, 5, 6, 9, 9, 4, 1, 2, 4, 2, 3, 6,\n",
              "       4, 8, 5, 9, 5, 7, 8, 9, 4, 8, 1, 5, 4, 4, 9, 6, 1, 8, 6, 0, 4, 5,\n",
              "       2, 7, 1, 6, 4, 5, 6, 0, 3, 2, 3, 6, 7, 1, 9, 1, 4, 7, 6, 5, 8, 5,\n",
              "       5, 1, 5, 2, 8, 8, 9, 9, 7, 6, 2, 2, 2, 3, 4, 8, 8, 3, 6, 0, 9, 7,\n",
              "       7, 0, 1, 0, 4, 5, 1, 5, 3, 6, 0, 4, 1, 0, 0, 3, 6, 5, 9, 7, 3, 5,\n",
              "       5, 9, 9, 8, 5, 3, 3, 2, 0, 5, 8, 3, 4, 0, 2, 4, 6, 4, 3, 4, 5, 0,\n",
              "       5, 2, 1, 3, 1, 4, 1, 1, 7, 0, 1, 5, 2, 1, 2, 8, 7, 0, 6, 4, 8, 8,\n",
              "       5, 1, 8, 4, 5, 8, 7, 9, 8, 6, 0, 6, 2, 0, 7, 9, 8, 9, 5, 2, 7, 7,\n",
              "       1, 8, 7, 4, 3, 8, 3, 5])"
            ]
          },
          "metadata": {},
          "execution_count": 40
        }
      ]
    },
    {
      "cell_type": "markdown",
      "metadata": {
        "id": "2ewAqwuwxbJ6"
      },
      "source": [
        "predict_proba now returns an array with the probabilities of each of the 10 classes."
      ]
    },
    {
      "cell_type": "code",
      "metadata": {
        "id": "aCcDjdxpxbJ6",
        "colab": {
          "base_uri": "https://localhost:8080/"
        },
        "outputId": "36aae405-8a4a-4f64-fc81-18c2cc084c8b"
      },
      "source": [
        "y_pred_proba_log_reg = log_reg.predict_proba(X_test)\n",
        "y_pred_proba_log_reg[0]"
      ],
      "execution_count": null,
      "outputs": [
        {
          "output_type": "execute_result",
          "data": {
            "text/plain": [
              "array([6.33969785e-08, 3.91379239e-11, 1.35790410e-13, 1.47352919e-13,\n",
              "       1.28923442e-09, 2.30352715e-11, 9.99987868e-01, 3.85793706e-11,\n",
              "       1.20674096e-05, 1.35688875e-11])"
            ]
          },
          "metadata": {},
          "execution_count": 41
        }
      ]
    },
    {
      "cell_type": "code",
      "metadata": {
        "id": "e3_9CILNvq4_",
        "colab": {
          "base_uri": "https://localhost:8080/"
        },
        "outputId": "1c483ad7-0d7c-4d3c-9c89-e2144d5508b7"
      },
      "source": [
        "sum(y_pred_proba_log_reg[0])"
      ],
      "execution_count": null,
      "outputs": [
        {
          "output_type": "execute_result",
          "data": {
            "text/plain": [
              "1.0"
            ]
          },
          "metadata": {},
          "execution_count": 42
        }
      ]
    },
    {
      "cell_type": "markdown",
      "metadata": {
        "id": "f4frBfUfxbJ7"
      },
      "source": [
        "But for KNN there is no difference at all, two classes or more: the algorithm works exactly the same way - it chooses the most popular class from $K $ neighbors."
      ]
    },
    {
      "cell_type": "code",
      "metadata": {
        "id": "kv_vUsNFxbJ8",
        "colab": {
          "base_uri": "https://localhost:8080/"
        },
        "outputId": "06b62474-b8b1-49c2-9a44-ff06620f80b2"
      },
      "source": [
        "knn = KNeighborsClassifier(n_neighbors=5)\n",
        "knn.fit(X_train, y_train)"
      ],
      "execution_count": null,
      "outputs": [
        {
          "output_type": "execute_result",
          "data": {
            "text/plain": [
              "KNeighborsClassifier()"
            ]
          },
          "metadata": {},
          "execution_count": 43
        }
      ]
    },
    {
      "cell_type": "code",
      "metadata": {
        "id": "6bWKmbaexbJ9",
        "colab": {
          "base_uri": "https://localhost:8080/"
        },
        "outputId": "60afba9b-638e-4859-8bd1-57e67ba0a876"
      },
      "source": [
        "y_pred_knn = knn.predict(X_test)\n",
        "y_pred_knn"
      ],
      "execution_count": null,
      "outputs": [
        {
          "output_type": "execute_result",
          "data": {
            "text/plain": [
              "array([6, 9, 3, 7, 2, 1, 5, 2, 5, 2, 1, 9, 4, 0, 4, 2, 3, 7, 8, 8, 4, 3,\n",
              "       9, 7, 5, 6, 3, 5, 6, 3, 4, 9, 1, 4, 4, 6, 9, 4, 7, 6, 6, 9, 1, 3,\n",
              "       6, 1, 3, 0, 6, 5, 5, 1, 9, 5, 6, 0, 9, 0, 0, 1, 0, 4, 5, 2, 4, 5,\n",
              "       7, 0, 7, 5, 9, 9, 5, 4, 7, 0, 4, 5, 5, 9, 9, 0, 2, 3, 8, 0, 6, 4,\n",
              "       4, 9, 1, 2, 8, 3, 5, 2, 9, 0, 4, 4, 4, 3, 5, 3, 1, 3, 5, 9, 4, 2,\n",
              "       7, 7, 4, 4, 1, 9, 2, 7, 8, 7, 2, 6, 9, 4, 0, 7, 2, 7, 5, 8, 7, 5,\n",
              "       7, 9, 0, 6, 6, 4, 2, 8, 0, 9, 4, 6, 9, 9, 6, 9, 0, 3, 5, 6, 6, 0,\n",
              "       6, 4, 3, 9, 3, 4, 7, 2, 9, 0, 4, 5, 3, 6, 5, 9, 9, 8, 4, 2, 1, 3,\n",
              "       7, 7, 2, 2, 3, 9, 8, 0, 3, 2, 2, 5, 6, 9, 9, 4, 1, 5, 4, 2, 3, 6,\n",
              "       4, 8, 5, 9, 5, 7, 8, 9, 4, 8, 1, 5, 4, 4, 9, 6, 1, 8, 6, 0, 4, 5,\n",
              "       2, 7, 4, 6, 4, 5, 6, 0, 3, 2, 3, 6, 7, 1, 5, 1, 4, 7, 6, 8, 8, 5,\n",
              "       5, 1, 6, 2, 8, 8, 9, 5, 7, 6, 2, 2, 2, 3, 4, 8, 8, 3, 6, 0, 9, 7,\n",
              "       7, 0, 1, 0, 4, 5, 1, 5, 3, 6, 0, 4, 1, 0, 0, 3, 6, 5, 9, 7, 3, 5,\n",
              "       5, 9, 9, 8, 5, 3, 3, 2, 0, 5, 8, 3, 4, 0, 2, 4, 6, 4, 3, 4, 5, 0,\n",
              "       5, 2, 1, 3, 1, 4, 1, 1, 7, 0, 1, 5, 2, 1, 2, 8, 7, 0, 6, 4, 8, 8,\n",
              "       5, 1, 8, 4, 5, 8, 7, 9, 8, 6, 0, 6, 2, 0, 7, 9, 8, 9, 5, 2, 7, 7,\n",
              "       1, 8, 7, 4, 3, 8, 3, 5])"
            ]
          },
          "metadata": {},
          "execution_count": 44
        }
      ]
    },
    {
      "cell_type": "code",
      "metadata": {
        "id": "SHJ7FUctxbJ-",
        "colab": {
          "base_uri": "https://localhost:8080/"
        },
        "outputId": "f711b317-0519-47d2-e72e-79a6bfdf4a93"
      },
      "source": [
        "y_pred_proba_knn = knn.predict_proba(X_test)\n",
        "y_pred_proba_knn[3]"
      ],
      "execution_count": null,
      "outputs": [
        {
          "output_type": "execute_result",
          "data": {
            "text/plain": [
              "array([0., 0., 0., 0., 0., 0., 0., 1., 0., 0.])"
            ]
          },
          "metadata": {},
          "execution_count": 45
        }
      ]
    },
    {
      "cell_type": "code",
      "metadata": {
        "id": "wqZI3_6xxbJ_",
        "colab": {
          "base_uri": "https://localhost:8080/"
        },
        "outputId": "faf771ca-3f31-4f85-ee7f-31978013db5e"
      },
      "source": [
        "from sklearn.metrics import accuracy_score\n",
        "print(accuracy_score(y_test, y_pred_log_reg))\n",
        "print(accuracy_score(y_test, y_pred_knn))"
      ],
      "execution_count": null,
      "outputs": [
        {
          "output_type": "stream",
          "name": "stdout",
          "text": [
            "0.9722222222222222\n",
            "0.9861111111111112\n"
          ]
        }
      ]
    },
    {
      "cell_type": "markdown",
      "metadata": {
        "id": "wiyG1anXxbKA"
      },
      "source": [
        "The Accuracy metric is one of the few that easily transfers from binary to non-binary. It's still just a fraction of objects with correctly guessed classes.\n",
        "\n",
        "As we can see, both models known to us work on numbers very, very coolly, given that there are 10 balanced classes, and they guess more than 96%."
      ]
    },
    {
      "cell_type": "markdown",
      "metadata": {
        "id": "Et6l_p-QxbKA"
      },
      "source": [
        "There are problems with other metrics - it's not obvious how to generalize them into several classes. There are usually two ways to do this.\n",
        "\n",
        "- macro is an analogue of One vs The Rest, the metric is simply counted for each class independently, and then averaged\n",
        "\n",
        "- micro is a more complicated thing, here you need to consider each pair of 'object, class' as objects, and as if counting metrics on binary classification in this problem"
      ]
    },
    {
      "cell_type": "code",
      "metadata": {
        "id": "3OeARzIxxbKA"
      },
      "source": [
        "from sklearn.metrics import precision_score, recall_score, f1_score"
      ],
      "execution_count": null,
      "outputs": []
    },
    {
      "cell_type": "code",
      "metadata": {
        "id": "a3TPmfkBxbKC",
        "colab": {
          "base_uri": "https://localhost:8080/"
        },
        "outputId": "400a6f55-e59a-4c45-a47e-e255ea1783b7"
      },
      "source": [
        "print(precision_score(y_test, y_pred_log_reg, average='macro'))\n",
        "print(precision_score(y_test, y_pred_knn, average='macro'))"
      ],
      "execution_count": null,
      "outputs": [
        {
          "output_type": "stream",
          "name": "stdout",
          "text": [
            "0.9735814591088425\n",
            "0.9879206496042758\n"
          ]
        }
      ]
    },
    {
      "cell_type": "code",
      "metadata": {
        "id": "KswLFBOvxbKF",
        "colab": {
          "base_uri": "https://localhost:8080/"
        },
        "outputId": "f018457e-4c55-4a0d-fd43-b1250fab2035"
      },
      "source": [
        "print(precision_score(y_test, y_pred_log_reg, average='micro'))\n",
        "print(precision_score(y_test, y_pred_knn, average='micro'))"
      ],
      "execution_count": null,
      "outputs": [
        {
          "output_type": "stream",
          "name": "stdout",
          "text": [
            "0.9722222222222222\n",
            "0.9861111111111112\n"
          ]
        }
      ]
    },
    {
      "cell_type": "code",
      "metadata": {
        "id": "2bMHH8BjxbKG",
        "colab": {
          "base_uri": "https://localhost:8080/"
        },
        "outputId": "868e7446-2483-4623-a76d-81d54f821d2c"
      },
      "source": [
        "print(recall_score(y_test, y_pred_log_reg, average='macro'))\n",
        "print(recall_score(y_test, y_pred_knn, average='macro'))"
      ],
      "execution_count": null,
      "outputs": [
        {
          "output_type": "stream",
          "name": "stdout",
          "text": [
            "0.9743702791014647\n",
            "0.9878035043804756\n"
          ]
        }
      ]
    },
    {
      "cell_type": "code",
      "metadata": {
        "id": "BRGtXSlFxbKH",
        "colab": {
          "base_uri": "https://localhost:8080/"
        },
        "outputId": "26c3113c-ee73-425f-8c92-1d5dd6161642"
      },
      "source": [
        "print(recall_score(y_test, y_pred_log_reg, average='micro'))\n",
        "print(recall_score(y_test, y_pred_knn, average='micro'))"
      ],
      "execution_count": null,
      "outputs": [
        {
          "output_type": "stream",
          "name": "stdout",
          "text": [
            "0.9722222222222222\n",
            "0.9861111111111112\n"
          ]
        }
      ]
    },
    {
      "cell_type": "code",
      "metadata": {
        "id": "VGAkeIAYxbKH",
        "colab": {
          "base_uri": "https://localhost:8080/"
        },
        "outputId": "836675d5-ac54-4624-efb8-071b1adae587"
      },
      "source": [
        "print(f1_score(y_test, y_pred_log_reg, average='macro'))\n",
        "print(f1_score(y_test, y_pred_knn, average='macro'))"
      ],
      "execution_count": null,
      "outputs": [
        {
          "output_type": "stream",
          "name": "stdout",
          "text": [
            "0.9738640962411946\n",
            "0.9877979367135244\n"
          ]
        }
      ]
    },
    {
      "cell_type": "code",
      "metadata": {
        "id": "uC_qzI6zxbKI",
        "colab": {
          "base_uri": "https://localhost:8080/"
        },
        "outputId": "453b76db-f14b-4af2-b94c-369128cb1c44"
      },
      "source": [
        "print(f1_score(y_test, y_pred_log_reg, average='macro'))\n",
        "print(f1_score(y_test, y_pred_knn, average='macro'))"
      ],
      "execution_count": null,
      "outputs": [
        {
          "output_type": "stream",
          "name": "stdout",
          "text": [
            "0.9738640962411946\n",
            "0.9877979367135244\n"
          ]
        }
      ]
    },
    {
      "cell_type": "markdown",
      "metadata": {
        "id": "HNtz2QuZxbKJ"
      },
      "source": [
        "As you can see, on this dataset everywhere you get the same ))"
      ]
    },
    {
      "cell_type": "code",
      "metadata": {
        "id": "IkozT1QBxbKK"
      },
      "source": [
        ""
      ],
      "execution_count": null,
      "outputs": []
    }
  ]
}